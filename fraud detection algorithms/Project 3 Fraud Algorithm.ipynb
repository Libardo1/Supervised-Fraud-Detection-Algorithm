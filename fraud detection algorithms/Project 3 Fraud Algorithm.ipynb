{
 "cells": [
  {
   "cell_type": "markdown",
   "metadata": {
    "nbpresent": {
     "id": "a7289771-729f-48bb-9be7-bd99538fb72a"
    }
   },
   "source": [
    "# Project 3 Fraud Detection Algorithm"
   ]
  },
  {
   "cell_type": "markdown",
   "metadata": {
    "nbpresent": {
     "id": "44d4eb36-ee0e-4070-b455-472afb0f3f4a"
    }
   },
   "source": [
    "## Load data"
   ]
  },
  {
   "cell_type": "code",
   "execution_count": 1,
   "metadata": {
    "collapsed": true,
    "nbpresent": {
     "id": "3be92b91-7733-4e0b-b0e7-5f48915edeb6"
    },
    "scrolled": true
   },
   "outputs": [],
   "source": [
    "import numpy as np\n",
    "import pandas as pd\n",
    "import matplotlib.pyplot as plt\n",
    "\n",
    "data = pd.read_csv(\"all_data.csv\", index_col = 0)"
   ]
  },
  {
   "cell_type": "code",
   "execution_count": 2,
   "metadata": {
    "nbpresent": {
     "id": "affacd4e-c4f5-4205-8c3b-ddf001223236"
    }
   },
   "outputs": [
    {
     "data": {
      "text/html": [
       "<div>\n",
       "<table border=\"1\" class=\"dataframe\">\n",
       "  <thead>\n",
       "    <tr style=\"text-align: right;\">\n",
       "      <th></th>\n",
       "      <th>recordnum</th>\n",
       "      <th>cardnum</th>\n",
       "      <th>date</th>\n",
       "      <th>merchnum</th>\n",
       "      <th>merch.description</th>\n",
       "      <th>merch.state</th>\n",
       "      <th>merch.zip</th>\n",
       "      <th>transtype</th>\n",
       "      <th>amount</th>\n",
       "      <th>fraud</th>\n",
       "      <th>...</th>\n",
       "      <th>merchnum_per_card_3</th>\n",
       "      <th>merchnum_per_card_7</th>\n",
       "      <th>zip_with_merchnum_14</th>\n",
       "      <th>state_with_merchnum_14</th>\n",
       "      <th>zip_with_merchnum_28</th>\n",
       "      <th>state_with_merchnum_28</th>\n",
       "      <th>cardnum_per_merch_14</th>\n",
       "      <th>cardnum_per_merch_28</th>\n",
       "      <th>merchnum_per_card_14</th>\n",
       "      <th>merchnum_per_card_28</th>\n",
       "    </tr>\n",
       "  </thead>\n",
       "  <tbody>\n",
       "    <tr>\n",
       "      <th>1</th>\n",
       "      <td>1</td>\n",
       "      <td>5142190439</td>\n",
       "      <td>2010-01-01</td>\n",
       "      <td>5509006296254</td>\n",
       "      <td>FEDEX SHP 12/23/09 AB#</td>\n",
       "      <td>TN</td>\n",
       "      <td>38118</td>\n",
       "      <td>P</td>\n",
       "      <td>3.62</td>\n",
       "      <td>NaN</td>\n",
       "      <td>...</td>\n",
       "      <td>1</td>\n",
       "      <td>1</td>\n",
       "      <td>1</td>\n",
       "      <td>1</td>\n",
       "      <td>1</td>\n",
       "      <td>1</td>\n",
       "      <td>1</td>\n",
       "      <td>1</td>\n",
       "      <td>1</td>\n",
       "      <td>1</td>\n",
       "    </tr>\n",
       "    <tr>\n",
       "      <th>2</th>\n",
       "      <td>2</td>\n",
       "      <td>5142190439</td>\n",
       "      <td>2010-01-01</td>\n",
       "      <td>5509006296254</td>\n",
       "      <td>FEDEX SHP 12/23/09 AB#</td>\n",
       "      <td>TN</td>\n",
       "      <td>38118</td>\n",
       "      <td>P</td>\n",
       "      <td>3.62</td>\n",
       "      <td>NaN</td>\n",
       "      <td>...</td>\n",
       "      <td>1</td>\n",
       "      <td>1</td>\n",
       "      <td>1</td>\n",
       "      <td>1</td>\n",
       "      <td>1</td>\n",
       "      <td>1</td>\n",
       "      <td>1</td>\n",
       "      <td>1</td>\n",
       "      <td>1</td>\n",
       "      <td>1</td>\n",
       "    </tr>\n",
       "    <tr>\n",
       "      <th>3</th>\n",
       "      <td>3</td>\n",
       "      <td>5142190439</td>\n",
       "      <td>2010-01-01</td>\n",
       "      <td>5509006296254</td>\n",
       "      <td>FEDEX SHP 12/23/09 AB#</td>\n",
       "      <td>TN</td>\n",
       "      <td>38118</td>\n",
       "      <td>P</td>\n",
       "      <td>3.62</td>\n",
       "      <td>NaN</td>\n",
       "      <td>...</td>\n",
       "      <td>1</td>\n",
       "      <td>1</td>\n",
       "      <td>1</td>\n",
       "      <td>1</td>\n",
       "      <td>1</td>\n",
       "      <td>1</td>\n",
       "      <td>1</td>\n",
       "      <td>1</td>\n",
       "      <td>1</td>\n",
       "      <td>1</td>\n",
       "    </tr>\n",
       "    <tr>\n",
       "      <th>4</th>\n",
       "      <td>4</td>\n",
       "      <td>5142152067</td>\n",
       "      <td>2010-01-01</td>\n",
       "      <td>5509006296254</td>\n",
       "      <td>FEDEX SHP 12/21/09 AB#</td>\n",
       "      <td>TN</td>\n",
       "      <td>38118</td>\n",
       "      <td>P</td>\n",
       "      <td>3.67</td>\n",
       "      <td>NaN</td>\n",
       "      <td>...</td>\n",
       "      <td>1</td>\n",
       "      <td>1</td>\n",
       "      <td>1</td>\n",
       "      <td>1</td>\n",
       "      <td>1</td>\n",
       "      <td>1</td>\n",
       "      <td>1</td>\n",
       "      <td>1</td>\n",
       "      <td>1</td>\n",
       "      <td>1</td>\n",
       "    </tr>\n",
       "    <tr>\n",
       "      <th>5</th>\n",
       "      <td>5</td>\n",
       "      <td>5142132941</td>\n",
       "      <td>2010-01-01</td>\n",
       "      <td>5509006296254</td>\n",
       "      <td>FEDEX SHP 12/27/09 AB#</td>\n",
       "      <td>TN</td>\n",
       "      <td>38118</td>\n",
       "      <td>P</td>\n",
       "      <td>3.62</td>\n",
       "      <td>NaN</td>\n",
       "      <td>...</td>\n",
       "      <td>1</td>\n",
       "      <td>1</td>\n",
       "      <td>1</td>\n",
       "      <td>1</td>\n",
       "      <td>1</td>\n",
       "      <td>1</td>\n",
       "      <td>2</td>\n",
       "      <td>2</td>\n",
       "      <td>1</td>\n",
       "      <td>1</td>\n",
       "    </tr>\n",
       "  </tbody>\n",
       "</table>\n",
       "<p>5 rows × 68 columns</p>\n",
       "</div>"
      ],
      "text/plain": [
       "   recordnum     cardnum        date       merchnum       merch.description  \\\n",
       "1          1  5142190439  2010-01-01  5509006296254  FEDEX SHP 12/23/09 AB#   \n",
       "2          2  5142190439  2010-01-01  5509006296254  FEDEX SHP 12/23/09 AB#   \n",
       "3          3  5142190439  2010-01-01  5509006296254  FEDEX SHP 12/23/09 AB#   \n",
       "4          4  5142152067  2010-01-01  5509006296254  FEDEX SHP 12/21/09 AB#   \n",
       "5          5  5142132941  2010-01-01  5509006296254  FEDEX SHP 12/27/09 AB#   \n",
       "\n",
       "  merch.state merch.zip transtype  amount  fraud          ...           \\\n",
       "1          TN     38118         P    3.62    NaN          ...            \n",
       "2          TN     38118         P    3.62    NaN          ...            \n",
       "3          TN     38118         P    3.62    NaN          ...            \n",
       "4          TN     38118         P    3.67    NaN          ...            \n",
       "5          TN     38118         P    3.62    NaN          ...            \n",
       "\n",
       "   merchnum_per_card_3  merchnum_per_card_7  zip_with_merchnum_14  \\\n",
       "1                    1                    1                     1   \n",
       "2                    1                    1                     1   \n",
       "3                    1                    1                     1   \n",
       "4                    1                    1                     1   \n",
       "5                    1                    1                     1   \n",
       "\n",
       "   state_with_merchnum_14  zip_with_merchnum_28  state_with_merchnum_28  \\\n",
       "1                       1                     1                       1   \n",
       "2                       1                     1                       1   \n",
       "3                       1                     1                       1   \n",
       "4                       1                     1                       1   \n",
       "5                       1                     1                       1   \n",
       "\n",
       "   cardnum_per_merch_14  cardnum_per_merch_28  merchnum_per_card_14  \\\n",
       "1                     1                     1                     1   \n",
       "2                     1                     1                     1   \n",
       "3                     1                     1                     1   \n",
       "4                     1                     1                     1   \n",
       "5                     2                     2                     1   \n",
       "\n",
       "   merchnum_per_card_28  \n",
       "1                     1  \n",
       "2                     1  \n",
       "3                     1  \n",
       "4                     1  \n",
       "5                     1  \n",
       "\n",
       "[5 rows x 68 columns]"
      ]
     },
     "execution_count": 2,
     "metadata": {},
     "output_type": "execute_result"
    }
   ],
   "source": [
    "# Look at the data\n",
    "data.head()"
   ]
  },
  {
   "cell_type": "code",
   "execution_count": 3,
   "metadata": {
    "collapsed": true,
    "nbpresent": {
     "id": "d26d6714-cef7-4d41-a351-91c541107406"
    }
   },
   "outputs": [
    {
     "data": {
      "text/plain": [
       "recordnum                       False\n",
       "cardnum                         False\n",
       "date                            False\n",
       "merchnum                        False\n",
       "merch.description               False\n",
       "merch.state                     False\n",
       "merch.zip                       False\n",
       "transtype                       False\n",
       "amount                          False\n",
       "fraud                            True\n",
       "card_amount_to_avg_3            False\n",
       "card_amount_to_max_3            False\n",
       "card_amount_to_median_3         False\n",
       "card_amount_to_total_3          False\n",
       "merchant_amount_to_avg_3        False\n",
       "merchant_amount_to_max_3        False\n",
       "merchant_amount_to_median_3     False\n",
       "merchant_amount_to_total_3      False\n",
       "card_amount_to_avg_7            False\n",
       "card_amount_to_max_7            False\n",
       "card_amount_to_median_7         False\n",
       "card_amount_to_total_7          False\n",
       "merchant_amount_to_avg_7        False\n",
       "merchant_amount_to_max_7        False\n",
       "merchant_amount_to_median_7     False\n",
       "merchant_amount_to_total_7      False\n",
       "card_amount_to_avg_14           False\n",
       "card_amount_to_max_14           False\n",
       "card_amount_to_median_14        False\n",
       "card_amount_to_total_14         False\n",
       "                                ...  \n",
       "merchant_amount_to_avg_28       False\n",
       "merchant_amount_to_max_28       False\n",
       "merchant_amount_to_median_28    False\n",
       "merchant_amount_to_total_28     False\n",
       "merchDaily                      False\n",
       "merchLag3Cum                    False\n",
       "merchLag7Cum                    False\n",
       "merchLag14Cum                   False\n",
       "merchLag28Cum                   False\n",
       "cardDaily                       False\n",
       "cardLag3Cum                     False\n",
       "cardLag7Cum                     False\n",
       "cardLag14Cum                    False\n",
       "cardLag28Cum                    False\n",
       "zip_with_merchnum_3             False\n",
       "state_with_merchnum_3           False\n",
       "zip_with_merchnum_7             False\n",
       "state_with_merchnum_7           False\n",
       "cardnum_per_merch_3             False\n",
       "cardnum_per_merch_7             False\n",
       "merchnum_per_card_3             False\n",
       "merchnum_per_card_7             False\n",
       "zip_with_merchnum_14            False\n",
       "state_with_merchnum_14          False\n",
       "zip_with_merchnum_28            False\n",
       "state_with_merchnum_28          False\n",
       "cardnum_per_merch_14            False\n",
       "cardnum_per_merch_28            False\n",
       "merchnum_per_card_14            False\n",
       "merchnum_per_card_28            False\n",
       "dtype: bool"
      ]
     },
     "execution_count": 3,
     "metadata": {},
     "output_type": "execute_result"
    }
   ],
   "source": [
    "# test for NAN\n",
    "pd.isnull(data).any()"
   ]
  },
  {
   "cell_type": "code",
   "execution_count": 4,
   "metadata": {
    "collapsed": true,
    "nbpresent": {
     "id": "0d8f109e-3f55-4671-bb7d-d3164e60432d"
    }
   },
   "outputs": [
    {
     "data": {
      "text/html": [
       "<div>\n",
       "<table border=\"1\" class=\"dataframe\">\n",
       "  <thead>\n",
       "    <tr style=\"text-align: right;\">\n",
       "      <th></th>\n",
       "      <th>recordnum</th>\n",
       "      <th>cardnum</th>\n",
       "      <th>date</th>\n",
       "      <th>merchnum</th>\n",
       "      <th>merch.description</th>\n",
       "      <th>merch.state</th>\n",
       "      <th>merch.zip</th>\n",
       "      <th>transtype</th>\n",
       "      <th>amount</th>\n",
       "      <th>fraud</th>\n",
       "      <th>...</th>\n",
       "      <th>merchnum_per_card_3</th>\n",
       "      <th>merchnum_per_card_7</th>\n",
       "      <th>zip_with_merchnum_14</th>\n",
       "      <th>state_with_merchnum_14</th>\n",
       "      <th>zip_with_merchnum_28</th>\n",
       "      <th>state_with_merchnum_28</th>\n",
       "      <th>cardnum_per_merch_14</th>\n",
       "      <th>cardnum_per_merch_28</th>\n",
       "      <th>merchnum_per_card_14</th>\n",
       "      <th>merchnum_per_card_28</th>\n",
       "    </tr>\n",
       "  </thead>\n",
       "  <tbody>\n",
       "    <tr>\n",
       "      <th>1</th>\n",
       "      <td>1</td>\n",
       "      <td>5142190439</td>\n",
       "      <td>2010-01-01</td>\n",
       "      <td>5509006296254</td>\n",
       "      <td>FEDEX SHP 12/23/09 AB#</td>\n",
       "      <td>TN</td>\n",
       "      <td>38118</td>\n",
       "      <td>P</td>\n",
       "      <td>3.62</td>\n",
       "      <td>0.0</td>\n",
       "      <td>...</td>\n",
       "      <td>1</td>\n",
       "      <td>1</td>\n",
       "      <td>1</td>\n",
       "      <td>1</td>\n",
       "      <td>1</td>\n",
       "      <td>1</td>\n",
       "      <td>1</td>\n",
       "      <td>1</td>\n",
       "      <td>1</td>\n",
       "      <td>1</td>\n",
       "    </tr>\n",
       "    <tr>\n",
       "      <th>2</th>\n",
       "      <td>2</td>\n",
       "      <td>5142190439</td>\n",
       "      <td>2010-01-01</td>\n",
       "      <td>5509006296254</td>\n",
       "      <td>FEDEX SHP 12/23/09 AB#</td>\n",
       "      <td>TN</td>\n",
       "      <td>38118</td>\n",
       "      <td>P</td>\n",
       "      <td>3.62</td>\n",
       "      <td>0.0</td>\n",
       "      <td>...</td>\n",
       "      <td>1</td>\n",
       "      <td>1</td>\n",
       "      <td>1</td>\n",
       "      <td>1</td>\n",
       "      <td>1</td>\n",
       "      <td>1</td>\n",
       "      <td>1</td>\n",
       "      <td>1</td>\n",
       "      <td>1</td>\n",
       "      <td>1</td>\n",
       "    </tr>\n",
       "    <tr>\n",
       "      <th>3</th>\n",
       "      <td>3</td>\n",
       "      <td>5142190439</td>\n",
       "      <td>2010-01-01</td>\n",
       "      <td>5509006296254</td>\n",
       "      <td>FEDEX SHP 12/23/09 AB#</td>\n",
       "      <td>TN</td>\n",
       "      <td>38118</td>\n",
       "      <td>P</td>\n",
       "      <td>3.62</td>\n",
       "      <td>0.0</td>\n",
       "      <td>...</td>\n",
       "      <td>1</td>\n",
       "      <td>1</td>\n",
       "      <td>1</td>\n",
       "      <td>1</td>\n",
       "      <td>1</td>\n",
       "      <td>1</td>\n",
       "      <td>1</td>\n",
       "      <td>1</td>\n",
       "      <td>1</td>\n",
       "      <td>1</td>\n",
       "    </tr>\n",
       "    <tr>\n",
       "      <th>4</th>\n",
       "      <td>4</td>\n",
       "      <td>5142152067</td>\n",
       "      <td>2010-01-01</td>\n",
       "      <td>5509006296254</td>\n",
       "      <td>FEDEX SHP 12/21/09 AB#</td>\n",
       "      <td>TN</td>\n",
       "      <td>38118</td>\n",
       "      <td>P</td>\n",
       "      <td>3.67</td>\n",
       "      <td>0.0</td>\n",
       "      <td>...</td>\n",
       "      <td>1</td>\n",
       "      <td>1</td>\n",
       "      <td>1</td>\n",
       "      <td>1</td>\n",
       "      <td>1</td>\n",
       "      <td>1</td>\n",
       "      <td>1</td>\n",
       "      <td>1</td>\n",
       "      <td>1</td>\n",
       "      <td>1</td>\n",
       "    </tr>\n",
       "    <tr>\n",
       "      <th>5</th>\n",
       "      <td>5</td>\n",
       "      <td>5142132941</td>\n",
       "      <td>2010-01-01</td>\n",
       "      <td>5509006296254</td>\n",
       "      <td>FEDEX SHP 12/27/09 AB#</td>\n",
       "      <td>TN</td>\n",
       "      <td>38118</td>\n",
       "      <td>P</td>\n",
       "      <td>3.62</td>\n",
       "      <td>0.0</td>\n",
       "      <td>...</td>\n",
       "      <td>1</td>\n",
       "      <td>1</td>\n",
       "      <td>1</td>\n",
       "      <td>1</td>\n",
       "      <td>1</td>\n",
       "      <td>1</td>\n",
       "      <td>2</td>\n",
       "      <td>2</td>\n",
       "      <td>1</td>\n",
       "      <td>1</td>\n",
       "    </tr>\n",
       "  </tbody>\n",
       "</table>\n",
       "<p>5 rows × 68 columns</p>\n",
       "</div>"
      ],
      "text/plain": [
       "   recordnum     cardnum        date       merchnum       merch.description  \\\n",
       "1          1  5142190439  2010-01-01  5509006296254  FEDEX SHP 12/23/09 AB#   \n",
       "2          2  5142190439  2010-01-01  5509006296254  FEDEX SHP 12/23/09 AB#   \n",
       "3          3  5142190439  2010-01-01  5509006296254  FEDEX SHP 12/23/09 AB#   \n",
       "4          4  5142152067  2010-01-01  5509006296254  FEDEX SHP 12/21/09 AB#   \n",
       "5          5  5142132941  2010-01-01  5509006296254  FEDEX SHP 12/27/09 AB#   \n",
       "\n",
       "  merch.state merch.zip transtype  amount  fraud          ...           \\\n",
       "1          TN     38118         P    3.62    0.0          ...            \n",
       "2          TN     38118         P    3.62    0.0          ...            \n",
       "3          TN     38118         P    3.62    0.0          ...            \n",
       "4          TN     38118         P    3.67    0.0          ...            \n",
       "5          TN     38118         P    3.62    0.0          ...            \n",
       "\n",
       "   merchnum_per_card_3  merchnum_per_card_7  zip_with_merchnum_14  \\\n",
       "1                    1                    1                     1   \n",
       "2                    1                    1                     1   \n",
       "3                    1                    1                     1   \n",
       "4                    1                    1                     1   \n",
       "5                    1                    1                     1   \n",
       "\n",
       "   state_with_merchnum_14  zip_with_merchnum_28  state_with_merchnum_28  \\\n",
       "1                       1                     1                       1   \n",
       "2                       1                     1                       1   \n",
       "3                       1                     1                       1   \n",
       "4                       1                     1                       1   \n",
       "5                       1                     1                       1   \n",
       "\n",
       "   cardnum_per_merch_14  cardnum_per_merch_28  merchnum_per_card_14  \\\n",
       "1                     1                     1                     1   \n",
       "2                     1                     1                     1   \n",
       "3                     1                     1                     1   \n",
       "4                     1                     1                     1   \n",
       "5                     2                     2                     1   \n",
       "\n",
       "   merchnum_per_card_28  \n",
       "1                     1  \n",
       "2                     1  \n",
       "3                     1  \n",
       "4                     1  \n",
       "5                     1  \n",
       "\n",
       "[5 rows x 68 columns]"
      ]
     },
     "execution_count": 4,
     "metadata": {},
     "output_type": "execute_result"
    }
   ],
   "source": [
    "# fill NAN with 0 in \"fraud\" column\n",
    "data = data.fillna(0)\n",
    "data.head()"
   ]
  },
  {
   "cell_type": "code",
   "execution_count": 5,
   "metadata": {},
   "outputs": [
    {
     "data": {
      "text/html": [
       "<div>\n",
       "<table border=\"1\" class=\"dataframe\">\n",
       "  <thead>\n",
       "    <tr style=\"text-align: right;\">\n",
       "      <th></th>\n",
       "      <th>recordnum</th>\n",
       "      <th>cardnum</th>\n",
       "      <th>date</th>\n",
       "      <th>merchnum</th>\n",
       "      <th>merch.description</th>\n",
       "      <th>merch.state</th>\n",
       "      <th>merch.zip</th>\n",
       "      <th>transtype</th>\n",
       "      <th>amount</th>\n",
       "      <th>fraud</th>\n",
       "      <th>...</th>\n",
       "      <th>merchnum_per_card_3</th>\n",
       "      <th>merchnum_per_card_7</th>\n",
       "      <th>zip_with_merchnum_14</th>\n",
       "      <th>state_with_merchnum_14</th>\n",
       "      <th>zip_with_merchnum_28</th>\n",
       "      <th>state_with_merchnum_28</th>\n",
       "      <th>cardnum_per_merch_14</th>\n",
       "      <th>cardnum_per_merch_28</th>\n",
       "      <th>merchnum_per_card_14</th>\n",
       "      <th>merchnum_per_card_28</th>\n",
       "    </tr>\n",
       "  </thead>\n",
       "  <tbody>\n",
       "    <tr>\n",
       "      <th>6387</th>\n",
       "      <td>6387</td>\n",
       "      <td>5142116498</td>\n",
       "      <td>2010-01-29</td>\n",
       "      <td>679679721335</td>\n",
       "      <td>ORACLE DIRECT MKTG</td>\n",
       "      <td>CA</td>\n",
       "      <td>94065</td>\n",
       "      <td>P</td>\n",
       "      <td>326.03</td>\n",
       "      <td>0.0</td>\n",
       "      <td>...</td>\n",
       "      <td>1</td>\n",
       "      <td>1</td>\n",
       "      <td>1</td>\n",
       "      <td>1</td>\n",
       "      <td>1</td>\n",
       "      <td>1</td>\n",
       "      <td>1</td>\n",
       "      <td>2</td>\n",
       "      <td>2</td>\n",
       "      <td>2</td>\n",
       "    </tr>\n",
       "    <tr>\n",
       "      <th>6388</th>\n",
       "      <td>6388</td>\n",
       "      <td>5142121921</td>\n",
       "      <td>2010-01-29</td>\n",
       "      <td>9085000690006</td>\n",
       "      <td>CAPITAL ADVANTAGE</td>\n",
       "      <td>VA</td>\n",
       "      <td>22031</td>\n",
       "      <td>P</td>\n",
       "      <td>14.95</td>\n",
       "      <td>0.0</td>\n",
       "      <td>...</td>\n",
       "      <td>1</td>\n",
       "      <td>2</td>\n",
       "      <td>1</td>\n",
       "      <td>1</td>\n",
       "      <td>1</td>\n",
       "      <td>1</td>\n",
       "      <td>1</td>\n",
       "      <td>1</td>\n",
       "      <td>3</td>\n",
       "      <td>6</td>\n",
       "    </tr>\n",
       "    <tr>\n",
       "      <th>6389</th>\n",
       "      <td>6389</td>\n",
       "      <td>5142122832</td>\n",
       "      <td>2010-01-29</td>\n",
       "      <td>356401061</td>\n",
       "      <td>RIVERWALK PLAZA HOTE</td>\n",
       "      <td>TX</td>\n",
       "      <td>78205</td>\n",
       "      <td>P</td>\n",
       "      <td>2478.00</td>\n",
       "      <td>0.0</td>\n",
       "      <td>...</td>\n",
       "      <td>2</td>\n",
       "      <td>6</td>\n",
       "      <td>1</td>\n",
       "      <td>1</td>\n",
       "      <td>1</td>\n",
       "      <td>1</td>\n",
       "      <td>1</td>\n",
       "      <td>1</td>\n",
       "      <td>8</td>\n",
       "      <td>10</td>\n",
       "    </tr>\n",
       "    <tr>\n",
       "      <th>6390</th>\n",
       "      <td>6390</td>\n",
       "      <td>5142124762</td>\n",
       "      <td>2010-01-29</td>\n",
       "      <td>6899688920126</td>\n",
       "      <td>ADVANCED COMPUTER CONCEPT</td>\n",
       "      <td>VA</td>\n",
       "      <td>22201</td>\n",
       "      <td>P</td>\n",
       "      <td>459.00</td>\n",
       "      <td>0.0</td>\n",
       "      <td>...</td>\n",
       "      <td>2</td>\n",
       "      <td>3</td>\n",
       "      <td>1</td>\n",
       "      <td>1</td>\n",
       "      <td>1</td>\n",
       "      <td>1</td>\n",
       "      <td>1</td>\n",
       "      <td>1</td>\n",
       "      <td>3</td>\n",
       "      <td>5</td>\n",
       "    </tr>\n",
       "    <tr>\n",
       "      <th>6391</th>\n",
       "      <td>6391</td>\n",
       "      <td>5142124791</td>\n",
       "      <td>2010-01-29</td>\n",
       "      <td>5725000466504</td>\n",
       "      <td>CDW*GOVERNMENT INC</td>\n",
       "      <td>IL</td>\n",
       "      <td>60061</td>\n",
       "      <td>P</td>\n",
       "      <td>83.81</td>\n",
       "      <td>0.0</td>\n",
       "      <td>...</td>\n",
       "      <td>1</td>\n",
       "      <td>1</td>\n",
       "      <td>1</td>\n",
       "      <td>1</td>\n",
       "      <td>1</td>\n",
       "      <td>1</td>\n",
       "      <td>24</td>\n",
       "      <td>38</td>\n",
       "      <td>4</td>\n",
       "      <td>8</td>\n",
       "    </tr>\n",
       "  </tbody>\n",
       "</table>\n",
       "<p>5 rows × 68 columns</p>\n",
       "</div>"
      ],
      "text/plain": [
       "      recordnum     cardnum        date       merchnum  \\\n",
       "6387       6387  5142116498  2010-01-29   679679721335   \n",
       "6388       6388  5142121921  2010-01-29  9085000690006   \n",
       "6389       6389  5142122832  2010-01-29      356401061   \n",
       "6390       6390  5142124762  2010-01-29  6899688920126   \n",
       "6391       6391  5142124791  2010-01-29  5725000466504   \n",
       "\n",
       "              merch.description merch.state merch.zip transtype   amount  \\\n",
       "6387         ORACLE DIRECT MKTG          CA     94065         P   326.03   \n",
       "6388          CAPITAL ADVANTAGE          VA     22031         P    14.95   \n",
       "6389       RIVERWALK PLAZA HOTE          TX     78205         P  2478.00   \n",
       "6390  ADVANCED COMPUTER CONCEPT          VA     22201         P   459.00   \n",
       "6391         CDW*GOVERNMENT INC          IL     60061         P    83.81   \n",
       "\n",
       "      fraud          ...           merchnum_per_card_3  merchnum_per_card_7  \\\n",
       "6387    0.0          ...                             1                    1   \n",
       "6388    0.0          ...                             1                    2   \n",
       "6389    0.0          ...                             2                    6   \n",
       "6390    0.0          ...                             2                    3   \n",
       "6391    0.0          ...                             1                    1   \n",
       "\n",
       "      zip_with_merchnum_14  state_with_merchnum_14  zip_with_merchnum_28  \\\n",
       "6387                     1                       1                     1   \n",
       "6388                     1                       1                     1   \n",
       "6389                     1                       1                     1   \n",
       "6390                     1                       1                     1   \n",
       "6391                     1                       1                     1   \n",
       "\n",
       "      state_with_merchnum_28  cardnum_per_merch_14  cardnum_per_merch_28  \\\n",
       "6387                       1                     1                     2   \n",
       "6388                       1                     1                     1   \n",
       "6389                       1                     1                     1   \n",
       "6390                       1                     1                     1   \n",
       "6391                       1                    24                    38   \n",
       "\n",
       "      merchnum_per_card_14  merchnum_per_card_28  \n",
       "6387                     2                     2  \n",
       "6388                     3                     6  \n",
       "6389                     8                    10  \n",
       "6390                     3                     5  \n",
       "6391                     4                     8  \n",
       "\n",
       "[5 rows x 68 columns]"
      ]
     },
     "execution_count": 5,
     "metadata": {},
     "output_type": "execute_result"
    }
   ],
   "source": [
    "# only keep the data after 28 days\n",
    "df = data[data[\"date\"]>\"2010-01-28\"]\n",
    "df.head()"
   ]
  },
  {
   "cell_type": "code",
   "execution_count": 6,
   "metadata": {
    "nbpresent": {
     "id": "082165ed-e1a2-484a-9477-f19bc7fcc478"
    }
   },
   "outputs": [
    {
     "name": "stdout",
     "output_type": "stream",
     "text": [
      "(88621, 59)\n"
     ]
    },
    {
     "data": {
      "text/html": [
       "<div>\n",
       "<table border=\"1\" class=\"dataframe\">\n",
       "  <thead>\n",
       "    <tr style=\"text-align: right;\">\n",
       "      <th></th>\n",
       "      <th>fraud</th>\n",
       "      <th>card_amount_to_avg_3</th>\n",
       "      <th>card_amount_to_max_3</th>\n",
       "      <th>card_amount_to_median_3</th>\n",
       "      <th>card_amount_to_total_3</th>\n",
       "      <th>merchant_amount_to_avg_3</th>\n",
       "      <th>merchant_amount_to_max_3</th>\n",
       "      <th>merchant_amount_to_median_3</th>\n",
       "      <th>merchant_amount_to_total_3</th>\n",
       "      <th>card_amount_to_avg_7</th>\n",
       "      <th>...</th>\n",
       "      <th>merchnum_per_card_3</th>\n",
       "      <th>merchnum_per_card_7</th>\n",
       "      <th>zip_with_merchnum_14</th>\n",
       "      <th>state_with_merchnum_14</th>\n",
       "      <th>zip_with_merchnum_28</th>\n",
       "      <th>state_with_merchnum_28</th>\n",
       "      <th>cardnum_per_merch_14</th>\n",
       "      <th>cardnum_per_merch_28</th>\n",
       "      <th>merchnum_per_card_14</th>\n",
       "      <th>merchnum_per_card_28</th>\n",
       "    </tr>\n",
       "  </thead>\n",
       "  <tbody>\n",
       "    <tr>\n",
       "      <th>6387</th>\n",
       "      <td>0.0</td>\n",
       "      <td>0.667055</td>\n",
       "      <td>0.667055</td>\n",
       "      <td>0.667055</td>\n",
       "      <td>0.667055</td>\n",
       "      <td>0.065900</td>\n",
       "      <td>0.065900</td>\n",
       "      <td>0.065900</td>\n",
       "      <td>0.065900</td>\n",
       "      <td>0.667055</td>\n",
       "      <td>...</td>\n",
       "      <td>1</td>\n",
       "      <td>1</td>\n",
       "      <td>1</td>\n",
       "      <td>1</td>\n",
       "      <td>1</td>\n",
       "      <td>1</td>\n",
       "      <td>1</td>\n",
       "      <td>2</td>\n",
       "      <td>2</td>\n",
       "      <td>2</td>\n",
       "    </tr>\n",
       "    <tr>\n",
       "      <th>6388</th>\n",
       "      <td>0.0</td>\n",
       "      <td>0.050678</td>\n",
       "      <td>0.050678</td>\n",
       "      <td>0.050678</td>\n",
       "      <td>0.050678</td>\n",
       "      <td>0.535842</td>\n",
       "      <td>0.535842</td>\n",
       "      <td>0.535842</td>\n",
       "      <td>0.535842</td>\n",
       "      <td>0.038454</td>\n",
       "      <td>...</td>\n",
       "      <td>1</td>\n",
       "      <td>2</td>\n",
       "      <td>1</td>\n",
       "      <td>1</td>\n",
       "      <td>1</td>\n",
       "      <td>1</td>\n",
       "      <td>1</td>\n",
       "      <td>1</td>\n",
       "      <td>3</td>\n",
       "      <td>6</td>\n",
       "    </tr>\n",
       "    <tr>\n",
       "      <th>6389</th>\n",
       "      <td>0.0</td>\n",
       "      <td>3.743966</td>\n",
       "      <td>2.065000</td>\n",
       "      <td>3.743966</td>\n",
       "      <td>1.871983</td>\n",
       "      <td>1.000000</td>\n",
       "      <td>0.000000</td>\n",
       "      <td>1.000000</td>\n",
       "      <td>0.000000</td>\n",
       "      <td>6.807755</td>\n",
       "      <td>...</td>\n",
       "      <td>2</td>\n",
       "      <td>6</td>\n",
       "      <td>1</td>\n",
       "      <td>1</td>\n",
       "      <td>1</td>\n",
       "      <td>1</td>\n",
       "      <td>1</td>\n",
       "      <td>1</td>\n",
       "      <td>8</td>\n",
       "      <td>10</td>\n",
       "    </tr>\n",
       "    <tr>\n",
       "      <th>6390</th>\n",
       "      <td>0.0</td>\n",
       "      <td>0.740060</td>\n",
       "      <td>0.456971</td>\n",
       "      <td>0.740060</td>\n",
       "      <td>0.370030</td>\n",
       "      <td>1.000000</td>\n",
       "      <td>0.000000</td>\n",
       "      <td>1.000000</td>\n",
       "      <td>0.000000</td>\n",
       "      <td>1.103021</td>\n",
       "      <td>...</td>\n",
       "      <td>2</td>\n",
       "      <td>3</td>\n",
       "      <td>1</td>\n",
       "      <td>1</td>\n",
       "      <td>1</td>\n",
       "      <td>1</td>\n",
       "      <td>1</td>\n",
       "      <td>1</td>\n",
       "      <td>3</td>\n",
       "      <td>5</td>\n",
       "    </tr>\n",
       "    <tr>\n",
       "      <th>6391</th>\n",
       "      <td>0.0</td>\n",
       "      <td>0.192225</td>\n",
       "      <td>0.192225</td>\n",
       "      <td>0.192225</td>\n",
       "      <td>0.192225</td>\n",
       "      <td>0.230989</td>\n",
       "      <td>0.069375</td>\n",
       "      <td>0.324845</td>\n",
       "      <td>0.015399</td>\n",
       "      <td>0.192225</td>\n",
       "      <td>...</td>\n",
       "      <td>1</td>\n",
       "      <td>1</td>\n",
       "      <td>1</td>\n",
       "      <td>1</td>\n",
       "      <td>1</td>\n",
       "      <td>1</td>\n",
       "      <td>24</td>\n",
       "      <td>38</td>\n",
       "      <td>4</td>\n",
       "      <td>8</td>\n",
       "    </tr>\n",
       "  </tbody>\n",
       "</table>\n",
       "<p>5 rows × 59 columns</p>\n",
       "</div>"
      ],
      "text/plain": [
       "      fraud  card_amount_to_avg_3  card_amount_to_max_3  \\\n",
       "6387    0.0              0.667055              0.667055   \n",
       "6388    0.0              0.050678              0.050678   \n",
       "6389    0.0              3.743966              2.065000   \n",
       "6390    0.0              0.740060              0.456971   \n",
       "6391    0.0              0.192225              0.192225   \n",
       "\n",
       "      card_amount_to_median_3  card_amount_to_total_3  \\\n",
       "6387                 0.667055                0.667055   \n",
       "6388                 0.050678                0.050678   \n",
       "6389                 3.743966                1.871983   \n",
       "6390                 0.740060                0.370030   \n",
       "6391                 0.192225                0.192225   \n",
       "\n",
       "      merchant_amount_to_avg_3  merchant_amount_to_max_3  \\\n",
       "6387                  0.065900                  0.065900   \n",
       "6388                  0.535842                  0.535842   \n",
       "6389                  1.000000                  0.000000   \n",
       "6390                  1.000000                  0.000000   \n",
       "6391                  0.230989                  0.069375   \n",
       "\n",
       "      merchant_amount_to_median_3  merchant_amount_to_total_3  \\\n",
       "6387                     0.065900                    0.065900   \n",
       "6388                     0.535842                    0.535842   \n",
       "6389                     1.000000                    0.000000   \n",
       "6390                     1.000000                    0.000000   \n",
       "6391                     0.324845                    0.015399   \n",
       "\n",
       "      card_amount_to_avg_7          ...           merchnum_per_card_3  \\\n",
       "6387              0.667055          ...                             1   \n",
       "6388              0.038454          ...                             1   \n",
       "6389              6.807755          ...                             2   \n",
       "6390              1.103021          ...                             2   \n",
       "6391              0.192225          ...                             1   \n",
       "\n",
       "      merchnum_per_card_7  zip_with_merchnum_14  state_with_merchnum_14  \\\n",
       "6387                    1                     1                       1   \n",
       "6388                    2                     1                       1   \n",
       "6389                    6                     1                       1   \n",
       "6390                    3                     1                       1   \n",
       "6391                    1                     1                       1   \n",
       "\n",
       "      zip_with_merchnum_28  state_with_merchnum_28  cardnum_per_merch_14  \\\n",
       "6387                     1                       1                     1   \n",
       "6388                     1                       1                     1   \n",
       "6389                     1                       1                     1   \n",
       "6390                     1                       1                     1   \n",
       "6391                     1                       1                    24   \n",
       "\n",
       "      cardnum_per_merch_28  merchnum_per_card_14  merchnum_per_card_28  \n",
       "6387                     2                     2                     2  \n",
       "6388                     1                     3                     6  \n",
       "6389                     1                     8                    10  \n",
       "6390                     1                     3                     5  \n",
       "6391                    38                     4                     8  \n",
       "\n",
       "[5 rows x 59 columns]"
      ]
     },
     "execution_count": 6,
     "metadata": {},
     "output_type": "execute_result"
    }
   ],
   "source": [
    "# only extract the label and features columns\n",
    "df = df.iloc[:,9:]\n",
    "print df.shape\n",
    "df.head()"
   ]
  },
  {
   "cell_type": "markdown",
   "metadata": {
    "nbpresent": {
     "id": "6dd1e682-6841-4836-a4cd-9786c98d6d8d"
    }
   },
   "source": [
    "## Build algorithm"
   ]
  },
  {
   "cell_type": "code",
   "execution_count": 7,
   "metadata": {
    "collapsed": true,
    "nbpresent": {
     "id": "8ff86ed0-ffa6-4cf9-8314-f3b419fa06ce"
    },
    "scrolled": true
   },
   "outputs": [],
   "source": [
    "# split lables and features\n",
    "labels = df[\"fraud\"]\n",
    "features = df.iloc[:,1:]"
   ]
  },
  {
   "cell_type": "code",
   "execution_count": 8,
   "metadata": {},
   "outputs": [
    {
     "name": "stdout",
     "output_type": "stream",
     "text": [
      "295.0\n",
      "88621\n",
      "0.00332878211711\n"
     ]
    }
   ],
   "source": [
    "print sum(labels)\n",
    "print len(labels)\n",
    "print sum(labels)/len(labels)"
   ]
  },
  {
   "cell_type": "code",
   "execution_count": 9,
   "metadata": {
    "collapsed": true
   },
   "outputs": [],
   "source": [
    "# import neccessary packages\n",
    "from sklearn.preprocessing import scale\n",
    "from sklearn.linear_model import LogisticRegression\n",
    "from sklearn.tree import DecisionTreeClassifier\n",
    "from sklearn.naive_bayes import GaussianNB\n",
    "from sklearn.metrics import roc_auc_score\n",
    "from sklearn.ensemble import AdaBoostClassifier\n",
    "from sklearn.ensemble import RandomForestClassifier\n",
    "from sklearn.feature_selection import mutual_info_classif\n",
    "from sklearn.utils import resample\n",
    "from sklearn.model_selection import train_test_split\n",
    "from sklearn.metrics import confusion_matrix\n",
    "from sklearn.base import clone"
   ]
  },
  {
   "cell_type": "code",
   "execution_count": 10,
   "metadata": {
    "collapsed": true,
    "nbpresent": {
     "id": "0e30e186-7936-444b-8820-c447b17784e1"
    },
    "scrolled": true
   },
   "outputs": [],
   "source": [
    "# pre-process dataset with z-scaling\n",
    "features = scale(features)"
   ]
  },
  {
   "cell_type": "markdown",
   "metadata": {
    "nbpresent": {
     "id": "183c6087-bab7-495b-991e-5f26dbc87272"
    }
   },
   "source": [
    "### Trial on Logistic Regression With All the Features"
   ]
  },
  {
   "cell_type": "code",
   "execution_count": null,
   "metadata": {
    "collapsed": true,
    "nbpresent": {
     "id": "6a5dc069-a3a0-47f0-8c1e-8ab2fcaa2fb8"
    },
    "scrolled": true
   },
   "outputs": [],
   "source": [
    "clf = LogisticRegression()\n",
    "\n",
    "# train the classifier and fit the model\n",
    "clf.fit(features, labels)\n",
    "\n",
    "# model evaluation\n",
    "accuracy = clf.score(features, labels)\n",
    "print \"accuracy:\", accuracy \n",
    "print \"baseline accuracy:\", float(sum(labels == 0))/len(labels)"
   ]
  },
  {
   "cell_type": "markdown",
   "metadata": {
    "nbpresent": {
     "id": "5047f4e0-7965-4330-8f9c-37eedca51a9b"
    }
   },
   "source": [
    "### Trial on Logistic Regression With Feature Selection "
   ]
  },
  {
   "cell_type": "markdown",
   "metadata": {
    "nbpresent": {
     "id": "a14dcca1-73f3-4d78-8476-855038a407c8"
    }
   },
   "source": [
    "#### Forward Stepwise Method"
   ]
  },
  {
   "cell_type": "code",
   "execution_count": null,
   "metadata": {
    "collapsed": true,
    "nbpresent": {
     "id": "9db4791a-d98d-4334-927e-4d78f25dfc2b"
    },
    "scrolled": true
   },
   "outputs": [],
   "source": [
    "accuracy = []\n",
    "\n",
    "for i in range(features.shape[1]):\n",
    "    features_sub = features[:,i]\n",
    "    # change the shape of ndarray to make it acceptable for sklearn\n",
    "    features_sub = features_sub.reshape(features_sub.shape[0],1)\n",
    "    clf = LogisticRegression()\n",
    "    clf.fit(features_sub, labels)\n",
    "    accuracy.append(clf.score(features_sub, labels))"
   ]
  },
  {
   "cell_type": "code",
   "execution_count": null,
   "metadata": {
    "collapsed": true,
    "nbpresent": {
     "id": "e06185da-78a9-4ad0-a324-34b36fbf20a0"
    },
    "scrolled": true
   },
   "outputs": [],
   "source": [
    "print accuracy\n",
    "print len(accuracy)\n",
    "print max(accuracy)\n",
    "\n",
    "# problem arises:\n",
    "# multiple candidate models with the same highest accuracy"
   ]
  },
  {
   "cell_type": "code",
   "execution_count": null,
   "metadata": {
    "collapsed": true,
    "nbpresent": {
     "id": "564e5f61-4b3d-4a4c-9661-3fc0f5f5161b"
    },
    "scrolled": true
   },
   "outputs": [],
   "source": [
    "# if only select the first var that appears to produce the highest classification rate\n",
    "accuracy.index(max(accuracy))"
   ]
  },
  {
   "cell_type": "code",
   "execution_count": null,
   "metadata": {
    "collapsed": true,
    "nbpresent": {
     "id": "80e83d2f-e09e-4631-b9de-5a6a9df3eb83"
    },
    "scrolled": true
   },
   "outputs": [],
   "source": [
    "# 2nd selection\n",
    "accuracy = []\n",
    "for i in range(1,features.shape[1]):\n",
    "    features_sub = features[:,[0,i]]\n",
    "    clf = LogisticRegression()\n",
    "    clf.fit(features_sub, labels)\n",
    "    score = clf.score(features_sub, labels)\n",
    "    accuracy.append(score)\n",
    "    print i, score\n",
    "\n",
    "print \"\"\n",
    "print len(accuracy)\n",
    "print max(accuracy)\n",
    "print df.columns.values[4]"
   ]
  },
  {
   "cell_type": "code",
   "execution_count": null,
   "metadata": {
    "collapsed": true,
    "nbpresent": {
     "id": "be1b823e-31e5-42e1-8c9e-c11b863afe6d"
    },
    "scrolled": true
   },
   "outputs": [],
   "source": [
    "# 3rd selection\n",
    "accuracy = []\n",
    "for i in [1,2]+range(4,features.shape[1]):\n",
    "    features_sub = features[:,[0,3,i]]\n",
    "    clf = LogisticRegression()\n",
    "    clf.fit(features_sub, labels)\n",
    "    score = clf.score(features_sub, labels)\n",
    "    accuracy.append(score)\n",
    "    print i, score\n",
    "\n",
    "print \"\"\n",
    "print len(accuracy)\n",
    "print max(accuracy)\n",
    "print df.columns.values[2]"
   ]
  },
  {
   "cell_type": "code",
   "execution_count": null,
   "metadata": {
    "collapsed": true,
    "nbpresent": {
     "id": "9ecaf1c3-2298-4493-b4d2-9dfe0b81122b"
    },
    "scrolled": true
   },
   "outputs": [],
   "source": [
    "# 4th selection\n",
    "accuracy = []\n",
    "for i in [2]+range(4,features.shape[1]):\n",
    "    features_sub = features[:,[0,1,3,i]]\n",
    "    clf = LogisticRegression()\n",
    "    clf.fit(features_sub, labels)\n",
    "    score = clf.score(features_sub, labels)\n",
    "    accuracy.append(score)\n",
    "    print i, score\n",
    "\n",
    "print \"\"\n",
    "print len(accuracy)\n",
    "print max(accuracy)\n",
    "print df.columns.values[5]"
   ]
  },
  {
   "cell_type": "code",
   "execution_count": null,
   "metadata": {
    "collapsed": true,
    "nbpresent": {
     "id": "62a16342-f00b-49c1-a570-1d08e5f107a3"
    },
    "scrolled": true
   },
   "outputs": [],
   "source": [
    "# Packaging to a function\n",
    "def forward_selection(features, labels):\n",
    "    #max_accuracy = float(sum(labels == 0))/len(labels)   #baseline accuracy level\n",
    "    max_accuracy = 0\n",
    "    added_features = []\n",
    "    count = 0\n",
    "    print \"Starting........ Baseline accuracy is {baseline}\".format(baseline = max_accuracy)\n",
    "    while True:\n",
    "        count += 1\n",
    "        accuracy = {}\n",
    "        feature_lst = [i for i in range(features.shape[1]) if i not in added_features]\n",
    "        for i in feature_lst:\n",
    "            features_sub = features[:,added_features+[i]]\n",
    "            if count == 1:\n",
    "                # change the shape of ndarray to make it acceptable for sklearn\n",
    "                features_sub = features_sub.reshape(features_sub.shape[0],1)\n",
    "            clf = LogisticRegression()\n",
    "            clf.fit(features_sub, labels)\n",
    "            accuracy[i] = clf.score(features_sub, labels)\n",
    "        current_max = max(accuracy.values())\n",
    "        if current_max >= max_accuracy:\n",
    "            max_index = accuracy.keys()[accuracy.values().index(current_max)]\n",
    "            added_features.append(max_index)\n",
    "            feature_name = df.columns.values[max_index+1]\n",
    "            if current_max > max_accuracy:\n",
    "                final_feature_lst = list(df.columns.values[[i+1 for i in added_features]])\n",
    "            max_accuracy = current_max\n",
    "            print \"Round number: {count_num}, the added feature is: {feature_selected}, maximum accuracy is: {max_acc}\\n\".format(\n",
    "            count_num = count,\n",
    "            feature_selected = feature_name,\n",
    "            max_acc = max_accuracy)\n",
    "        else:\n",
    "            print \"Forward selection ended.\"\n",
    "            print \"Selected features are \",\n",
    "            print final_feature_lst\n",
    "            break"
   ]
  },
  {
   "cell_type": "code",
   "execution_count": null,
   "metadata": {
    "collapsed": true,
    "nbpresent": {
     "id": "f7cae24a-be12-466c-992e-7937ef0c1504"
    },
    "scrolled": true
   },
   "outputs": [],
   "source": [
    "forward_selection(features, labels)"
   ]
  },
  {
   "cell_type": "markdown",
   "metadata": {
    "nbpresent": {
     "id": "ca872076-f66d-465d-9570-1df8458ac4f0"
    }
   },
   "source": [
    "#### Backward Stepwise Method"
   ]
  },
  {
   "cell_type": "code",
   "execution_count": null,
   "metadata": {
    "collapsed": true,
    "nbpresent": {
     "id": "c2b2ba5a-98dc-4fac-9888-2e6b2c19adcc"
    },
    "scrolled": true
   },
   "outputs": [],
   "source": [
    "# all variables\n",
    "clf = LogisticRegression()\n",
    "clf.fit(features, labels)\n",
    "clf.score(features, labels)"
   ]
  },
  {
   "cell_type": "code",
   "execution_count": null,
   "metadata": {
    "collapsed": true,
    "nbpresent": {
     "id": "dfa808c2-291b-4339-a67e-5c91685ac828"
    },
    "scrolled": true
   },
   "outputs": [],
   "source": [
    "# exclude 1 var\n",
    "accuracy = []\n",
    "for i in range(features.shape[1]):\n",
    "    selected = [j for j in range(features.shape[1]) if j not in [i]]\n",
    "    features_sub = features[:,selected]\n",
    "    clf = LogisticRegression()\n",
    "    clf.fit(features_sub, labels)\n",
    "    score = clf.score(features_sub, labels)\n",
    "    accuracy.append(score)\n",
    "    print i, score\n",
    "\n",
    "print \"\"\n",
    "print len(accuracy)\n",
    "print max(accuracy)\n",
    "print df.columns.values[14]"
   ]
  },
  {
   "cell_type": "code",
   "execution_count": null,
   "metadata": {
    "collapsed": true,
    "nbpresent": {
     "id": "64130f62-181f-49ba-b8c5-f3509b04c5b1"
    },
    "scrolled": true
   },
   "outputs": [],
   "source": [
    "# exclude 2 var\n",
    "accuracy = []\n",
    "for i in range(13)+range(14,features.shape[1]):\n",
    "    selected = [j for j in range(13)+range(14,features.shape[1]) if j not in [i]]\n",
    "    features_sub = features[:,selected]\n",
    "    clf = LogisticRegression()\n",
    "    clf.fit(features_sub, labels)\n",
    "    score = clf.score(features_sub, labels)\n",
    "    accuracy.append(score)\n",
    "    print i, score\n",
    "\n",
    "print \"\"\n",
    "print len(accuracy)\n",
    "print max(accuracy)\n",
    "print df.columns.values[2]"
   ]
  },
  {
   "cell_type": "code",
   "execution_count": null,
   "metadata": {
    "collapsed": true,
    "nbpresent": {
     "id": "3604bfbe-a46b-46cb-95a2-04223aa94d65"
    },
    "scrolled": true
   },
   "outputs": [],
   "source": [
    "def backward_selection(features, labels):\n",
    "    clf = LogisticRegression()\n",
    "    clf.fit(features, labels)\n",
    "    max_accuracy = clf.score(features, labels)\n",
    "    excluded_features = []\n",
    "    count = 0\n",
    "    print \"Starting........ Baseline accuracy is {baseline}\".format(baseline = max_accuracy)\n",
    "    while True:\n",
    "        count += 1\n",
    "        accuracy = {}\n",
    "        feature_lst = [i for i in range(features.shape[1]) if i not in excluded_features]\n",
    "        for i in feature_lst:\n",
    "            features_sub = features[:,[j for j in feature_lst if j not in [i]]]\n",
    "            clf = LogisticRegression()\n",
    "            clf.fit(features_sub, labels)\n",
    "            accuracy[i] = clf.score(features_sub, labels)\n",
    "        current_max = max(accuracy.values())\n",
    "        if current_max >= max_accuracy:\n",
    "            max_index = accuracy.keys()[accuracy.values().index(current_max)]\n",
    "            excluded_features.append(max_index)\n",
    "            feature_name = df.columns.values[max_index + 1]\n",
    "            max_accuracy = current_max\n",
    "            print \"Round number: {count_num}, the excluded feature is: {feature_selected}, maximum accuracy is: {max_acc}\\n\".format(\n",
    "            count_num = count,\n",
    "            feature_selected = feature_name,\n",
    "            max_acc = max_accuracy)\n",
    "        else:\n",
    "            final_feature_lst = list(df.columns.values[[i+1 for i in range(features.shape[1]) if i not in excluded_features]])\n",
    "            print \"Backward selection ended.\"\n",
    "            print \"Selected variables are \",\n",
    "            print final_feature_lst\n",
    "            break"
   ]
  },
  {
   "cell_type": "code",
   "execution_count": null,
   "metadata": {
    "collapsed": true,
    "nbpresent": {
     "id": "4d14dd87-b8e7-494a-9cff-3caf17ae8fdc"
    },
    "scrolled": true
   },
   "outputs": [],
   "source": [
    "backward_selection(features, labels)"
   ]
  },
  {
   "cell_type": "markdown",
   "metadata": {},
   "source": [
    "### Stepwise Selection Function Packaging"
   ]
  },
  {
   "cell_type": "code",
   "execution_count": null,
   "metadata": {
    "collapsed": true,
    "scrolled": true
   },
   "outputs": [],
   "source": [
    "# Packaging to a function\n",
    "def forward_selection(features, labels, clf):\n",
    "    #max_accuracy = float(sum(labels == 0))/len(labels)   #baseline accuracy level\n",
    "    max_accuracy = 0\n",
    "    added_features = []\n",
    "    count = 0\n",
    "    print \"Starting........ Baseline accuracy is {baseline}\".format(baseline = max_accuracy)\n",
    "    while True:\n",
    "        count += 1\n",
    "        accuracy = {}\n",
    "        feature_lst = [i for i in range(features.shape[1]) if i not in added_features]\n",
    "        for i in feature_lst:\n",
    "            features_sub = features[:,added_features+[i]]\n",
    "            if count == 1:\n",
    "                # change the shape of ndarray to make it acceptable for sklearn\n",
    "                features_sub = features_sub.reshape(features_sub.shape[0],1)\n",
    "            clf.fit(features_sub, labels)\n",
    "            accuracy[i] = clf.score(features_sub, labels)\n",
    "        if accuracy == {}:\n",
    "            print \"Forward selection ended.\"\n",
    "            print \"Selected features are \",\n",
    "            print final_feature_lst\n",
    "            break\n",
    "        current_max = max(accuracy.values())\n",
    "        if current_max >= max_accuracy:\n",
    "            max_index = accuracy.keys()[accuracy.values().index(current_max)]\n",
    "            added_features.append(max_index)\n",
    "            feature_name = df.columns.values[max_index+1]\n",
    "            if current_max > max_accuracy:\n",
    "                final_feature_lst = list(df.columns.values[[i+1 for i in added_features]])\n",
    "            max_accuracy = current_max\n",
    "            print \"Round number: {count_num}, the added feature is: {feature_selected}, maximum accuracy is: {max_acc}\\n\".format(\n",
    "            count_num = count,\n",
    "            feature_selected = feature_name,\n",
    "            max_acc = max_accuracy)\n",
    "        else:\n",
    "            print \"Forward selection ended.\"\n",
    "            print \"Selected features are \",\n",
    "            print final_feature_lst\n",
    "            break"
   ]
  },
  {
   "cell_type": "code",
   "execution_count": null,
   "metadata": {
    "collapsed": true,
    "scrolled": true
   },
   "outputs": [],
   "source": [
    "def backward_selection(features, labels, clf):\n",
    "    clf.fit(features, labels)\n",
    "    max_accuracy = clf.score(features, labels)\n",
    "    excluded_features = []\n",
    "    count = 0\n",
    "    print \"Starting........ Baseline accuracy is {baseline}\".format(baseline = max_accuracy)\n",
    "    while True:\n",
    "        count += 1\n",
    "        if count == features.shape[1]:\n",
    "            final_feature_lst = list(df.columns.values[[i+1 for i in range(features.shape[1]) if i not in excluded_features]])\n",
    "            print \"Backward selection ended.\"\n",
    "            print \"Selected variables are \",\n",
    "            print final_feature_lst\n",
    "            break \n",
    "        accuracy = {}\n",
    "        feature_lst = [i for i in range(features.shape[1]) if i not in excluded_features]\n",
    "        for i in feature_lst:\n",
    "            features_sub = features[:,[j for j in feature_lst if j not in [i]]]\n",
    "            if count == features.shape[1]-1:\n",
    "                # change the shape of ndarray to make it acceptable for sklearn\n",
    "                features_sub = features_sub.reshape(features_sub.shape[0],1)\n",
    "            clf.fit(features_sub, labels)\n",
    "            accuracy[i] = clf.score(features_sub, labels)\n",
    "        current_max = max(accuracy.values())\n",
    "        if current_max >= max_accuracy:\n",
    "            max_index = accuracy.keys()[accuracy.values().index(current_max)]\n",
    "            excluded_features.append(max_index)\n",
    "            feature_name = df.columns.values[max_index + 1]\n",
    "            max_accuracy = current_max\n",
    "            print \"Round number: {count_num}, the excluded feature is: {feature_selected}, maximum accuracy is: {max_acc}\\n\".format(\n",
    "            count_num = count,\n",
    "            feature_selected = feature_name,\n",
    "            max_acc = max_accuracy)\n",
    "        else:\n",
    "            final_feature_lst = list(df.columns.values[[i+1 for i in range(features.shape[1]) if i not in excluded_features]])\n",
    "            print \"Backward selection ended.\"\n",
    "            print \"Selected variables are \",\n",
    "            print final_feature_lst\n",
    "            break\n",
    "          "
   ]
  },
  {
   "cell_type": "code",
   "execution_count": null,
   "metadata": {
    "collapsed": true
   },
   "outputs": [],
   "source": [
    "# trial with default setting of decision tree\n",
    "clf = DecisionTreeClassifier()\n",
    "forward_selection(features, labels, clf)"
   ]
  },
  {
   "cell_type": "code",
   "execution_count": null,
   "metadata": {
    "collapsed": true
   },
   "outputs": [],
   "source": [
    "clf = DecisionTreeClassifier()\n",
    "backward_selection(features, labels, clf)"
   ]
  },
  {
   "cell_type": "code",
   "execution_count": null,
   "metadata": {
    "collapsed": true
   },
   "outputs": [],
   "source": [
    "clf = LogisticRegression()\n",
    "forward_selection(features, labels, clf)"
   ]
  },
  {
   "cell_type": "code",
   "execution_count": null,
   "metadata": {
    "collapsed": true
   },
   "outputs": [],
   "source": [
    "clf = LogisticRegression()\n",
    "backward_selection(features, labels, clf)"
   ]
  },
  {
   "cell_type": "code",
   "execution_count": null,
   "metadata": {
    "collapsed": true
   },
   "outputs": [],
   "source": [
    "# Gaussian Naive Bayes\n",
    "clf = GaussianNB()\n",
    "forward_selection(features, labels, clf)"
   ]
  },
  {
   "cell_type": "code",
   "execution_count": null,
   "metadata": {
    "collapsed": true
   },
   "outputs": [],
   "source": [
    "clf = GaussianNB()\n",
    "backward_selection(features, labels, clf)"
   ]
  },
  {
   "cell_type": "markdown",
   "metadata": {},
   "source": [
    "#### Change criteria from accuracy to AUC score"
   ]
  },
  {
   "cell_type": "code",
   "execution_count": null,
   "metadata": {
    "collapsed": true,
    "scrolled": true
   },
   "outputs": [],
   "source": [
    "clf = LogisticRegression()\n",
    "clf.fit(features, labels)\n",
    "predictions = clf.predict(features)\n",
    "print clf.score(features, labels)\n",
    "\n",
    "print roc_auc_score(labels, predictions)"
   ]
  },
  {
   "cell_type": "code",
   "execution_count": null,
   "metadata": {
    "collapsed": true,
    "scrolled": true
   },
   "outputs": [],
   "source": [
    "clf = DecisionTreeClassifier()\n",
    "clf.fit(features, labels)\n",
    "predictions = clf.predict(features)\n",
    "print clf.score(features, labels)\n",
    "\n",
    "print roc_auc_score(labels, predictions)"
   ]
  },
  {
   "cell_type": "code",
   "execution_count": null,
   "metadata": {
    "collapsed": true,
    "scrolled": true
   },
   "outputs": [],
   "source": [
    "# Packaging to a function\n",
    "def forward_selection_auc(features, labels, clf):\n",
    "    # initialize counter and comparison flag\n",
    "    max_accuracy = 0\n",
    "    added_features = []\n",
    "    count = 0\n",
    "    print \"Starting........ Baseline AUC score is {baseline}\".format(baseline = max_accuracy)\n",
    "    # loop until all the new models give a worse result\n",
    "    while True:\n",
    "        count += 1\n",
    "        accuracy = {}\n",
    "        # feature_lst is the list for all the feature indice except those features have been selected in previous round\n",
    "        feature_lst = [i for i in range(features.shape[1]) if i not in added_features]\n",
    "        # add one feature in feature_list each time\n",
    "        for i in feature_lst:\n",
    "            features_sub = features[:,added_features+[i]]\n",
    "            if count == 1:\n",
    "                # change the shape of ndarray to make it acceptable for sklearn\n",
    "                features_sub = features_sub.reshape(features_sub.shape[0],1)\n",
    "            # loop over to create a dict accuracy with feature index as key, and correponding accuracy as value\n",
    "            clf.fit(features_sub, labels)\n",
    "            predictions = clf.predict(features_sub)\n",
    "            accuracy[i] = roc_auc_score(labels, predictions)\n",
    "        # when the accuracy dict is empty, indicating it's the last round with no left features, end the loop\n",
    "        if accuracy == {}:\n",
    "            print \"Forward selection ended.\"\n",
    "            print \"Selected features are \",\n",
    "            print final_feature_lst\n",
    "            break\n",
    "        # if it's not the last round, calculate the best result in current round\n",
    "        current_max = max(accuracy.values())\n",
    "        # if a not worse best result is generated, update added_features list\n",
    "        if current_max >= max_accuracy:\n",
    "            max_index = accuracy.keys()[accuracy.values().index(current_max)]\n",
    "            added_features.append(max_index)\n",
    "            feature_name = df.columns.values[max_index+1]\n",
    "            # do not updated the final_feature_list until a better result is generated (always make sure fewer features)\n",
    "            if current_max > max_accuracy:\n",
    "                final_feature_lst = list(df.columns.values[[i+1 for i in added_features]])\n",
    "            # update maximum record\n",
    "            max_accuracy = current_max\n",
    "            print \"Round number: {count_num}, the added feature is: {feature_selected}, maximum AUC score is: {max_acc}\\n\".format(\n",
    "            count_num = count,\n",
    "            feature_selected = feature_name,\n",
    "            max_acc = max_accuracy)\n",
    "        # otherwise, all the results are worse, end the loop\n",
    "        else:\n",
    "            print \"Forward selection ended.\"\n",
    "            print \"Selected features are \",\n",
    "            print final_feature_lst\n",
    "            break"
   ]
  },
  {
   "cell_type": "code",
   "execution_count": null,
   "metadata": {
    "collapsed": true,
    "scrolled": true
   },
   "outputs": [],
   "source": [
    "def backward_selection_auc(features, labels, clf):\n",
    "    clf.fit(features, labels)\n",
    "    predictions = clf.predict(features)\n",
    "    max_accuracy = roc_auc_score(labels, predictions)   \n",
    "    excluded_features = []\n",
    "    count = 0\n",
    "    print \"Starting........ Baseline AUC score is {baseline}\".format(baseline = max_accuracy)\n",
    "    while True:\n",
    "        count += 1\n",
    "        if count == features.shape[1]:\n",
    "            final_feature_lst = list(df.columns.values[[i+1 for i in range(features.shape[1]) if i not in excluded_features]])\n",
    "            print \"Backward selection ended.\"\n",
    "            print \"Selected variables are \",\n",
    "            print final_feature_lst\n",
    "            break \n",
    "        accuracy = {}\n",
    "        feature_lst = [i for i in range(features.shape[1]) if i not in excluded_features]\n",
    "        for i in feature_lst:\n",
    "            features_sub = features[:,[j for j in feature_lst if j not in [i]]]\n",
    "            if count == features.shape[1]-1:\n",
    "                # change the shape of ndarray to make it acceptable for sklearn\n",
    "                features_sub = features_sub.reshape(features_sub.shape[0],1)\n",
    "            clf.fit(features_sub, labels)\n",
    "            predictions = clf.predict(features_sub)\n",
    "            accuracy[i] = roc_auc_score(labels, predictions)\n",
    "        current_max = max(accuracy.values())\n",
    "        if current_max >= max_accuracy:\n",
    "            max_index = accuracy.keys()[accuracy.values().index(current_max)]\n",
    "            excluded_features.append(max_index)\n",
    "            feature_name = df.columns.values[max_index + 1]\n",
    "            max_accuracy = current_max\n",
    "            print \"Round number: {count_num}, the excluded feature is: {feature_selected}, maximum AUC score is: {max_acc}\\n\".format(\n",
    "            count_num = count,\n",
    "            feature_selected = feature_name,\n",
    "            max_acc = max_accuracy)\n",
    "        else:\n",
    "            final_feature_lst = list(df.columns.values[[i+1 for i in range(features.shape[1]) if i not in excluded_features]])\n",
    "            print \"Backward selection ended.\"\n",
    "            print \"Selected variables are \",\n",
    "            print final_feature_lst\n",
    "            break\n",
    "          "
   ]
  },
  {
   "cell_type": "code",
   "execution_count": null,
   "metadata": {
    "collapsed": true
   },
   "outputs": [],
   "source": [
    "clf = GaussianNB()\n",
    "forward_selection_auc(features, labels, clf)"
   ]
  },
  {
   "cell_type": "code",
   "execution_count": null,
   "metadata": {
    "collapsed": true
   },
   "outputs": [],
   "source": [
    "clf = GaussianNB()\n",
    "backward_selection_auc(features, labels, clf)"
   ]
  },
  {
   "cell_type": "code",
   "execution_count": null,
   "metadata": {
    "collapsed": true,
    "scrolled": false
   },
   "outputs": [],
   "source": [
    "clf = DecisionTreeClassifier()\n",
    "forward_selection_auc(features, labels, clf)"
   ]
  },
  {
   "cell_type": "code",
   "execution_count": null,
   "metadata": {
    "collapsed": true
   },
   "outputs": [],
   "source": [
    "clf = DecisionTreeClassifier()\n",
    "backward_selection_auc(features, labels, clf)"
   ]
  },
  {
   "cell_type": "code",
   "execution_count": null,
   "metadata": {
    "collapsed": true
   },
   "outputs": [],
   "source": [
    "clf = LogisticRegression()\n",
    "forward_selection_auc(features, labels, clf)"
   ]
  },
  {
   "cell_type": "code",
   "execution_count": null,
   "metadata": {
    "collapsed": true
   },
   "outputs": [],
   "source": [
    "clf = LogisticRegression()\n",
    "backward_selection_auc(features, labels, clf)"
   ]
  },
  {
   "cell_type": "code",
   "execution_count": null,
   "metadata": {
    "collapsed": true
   },
   "outputs": [],
   "source": [
    "clf = AdaBoostClassifier()\n",
    "\n",
    "forward_selection_auc(features, labels, clf)"
   ]
  },
  {
   "cell_type": "code",
   "execution_count": null,
   "metadata": {
    "collapsed": true
   },
   "outputs": [],
   "source": [
    "clf = AdaBoostClassifier()\n",
    "backward_selection_auc(features, labels, clf)"
   ]
  },
  {
   "cell_type": "markdown",
   "metadata": {},
   "source": [
    "#### Tunning parameter of AdaBoost"
   ]
  },
  {
   "cell_type": "code",
   "execution_count": null,
   "metadata": {
    "collapsed": true,
    "scrolled": true
   },
   "outputs": [],
   "source": [
    "clf = AdaBoostClassifier()\n",
    "clf.fit(features, labels)\n",
    "predictions = clf.predict(features)\n",
    "print roc_auc_score(labels, predictions)"
   ]
  },
  {
   "cell_type": "code",
   "execution_count": null,
   "metadata": {
    "collapsed": true,
    "scrolled": true
   },
   "outputs": [],
   "source": [
    "clf = AdaBoostClassifier(learning_rate = 2)\n",
    "clf.fit(features, labels)\n",
    "predictions = clf.predict(features)\n",
    "print roc_auc_score(labels, predictions)"
   ]
  },
  {
   "cell_type": "code",
   "execution_count": null,
   "metadata": {
    "collapsed": true,
    "scrolled": true
   },
   "outputs": [],
   "source": [
    "clf = AdaBoostClassifier(learning_rate = 100)\n",
    "clf.fit(features, labels)\n",
    "predictions = clf.predict(features)\n",
    "print roc_auc_score(labels, predictions)"
   ]
  },
  {
   "cell_type": "code",
   "execution_count": null,
   "metadata": {
    "collapsed": true,
    "scrolled": true
   },
   "outputs": [],
   "source": [
    "learning_rate = np.arange(1, 50, 2)\n",
    "learning_rate"
   ]
  },
  {
   "cell_type": "code",
   "execution_count": null,
   "metadata": {
    "collapsed": true,
    "scrolled": true
   },
   "outputs": [],
   "source": [
    "score_lst = []\n",
    "\n",
    "for lr in learning_rate:\n",
    "    clf = AdaBoostClassifier(learning_rate = lr)\n",
    "    clf.fit(features, labels)\n",
    "    predictions = clf.predict(features)\n",
    "    score_lst.append(roc_auc_score(labels, predictions))"
   ]
  },
  {
   "cell_type": "code",
   "execution_count": null,
   "metadata": {
    "collapsed": true,
    "scrolled": false
   },
   "outputs": [],
   "source": [
    "plt.plot(learning_rate, score_lst, label=\"full model\")\n",
    "plt.title(\"AUC score with different tunning parameters\")\n",
    "plt.xlabel(\"Learning rate\")\n",
    "plt.ylabel(\"AUC score\")\n",
    "plt.legend(loc=\"lower right\")\n",
    "plt.show()"
   ]
  },
  {
   "cell_type": "code",
   "execution_count": null,
   "metadata": {
    "collapsed": true
   },
   "outputs": [],
   "source": [
    "learning_rate = np.arange(1, 5, 0.5)\n",
    "score_lst = []\n",
    "\n",
    "for lr in learning_rate:\n",
    "    clf = AdaBoostClassifier(learning_rate = lr)\n",
    "    clf.fit(features, labels)\n",
    "    predictions = clf.predict(features)\n",
    "    score_lst.append(roc_auc_score(labels, predictions))\n",
    "\n",
    "plt.plot(learning_rate, score_lst, label=\"full model\")\n",
    "plt.title(\"AUC score with different tunning parameters\")\n",
    "plt.xlabel(\"Learning rate\")\n",
    "plt.ylabel(\"AUC score\")\n",
    "plt.legend(loc=\"lower right\")\n",
    "plt.show()"
   ]
  },
  {
   "cell_type": "code",
   "execution_count": null,
   "metadata": {
    "collapsed": true,
    "scrolled": false
   },
   "outputs": [],
   "source": [
    "learning_rate = np.arange(1, 3, 0.2)\n",
    "score_lst = []\n",
    "\n",
    "for lr in learning_rate:\n",
    "    clf = AdaBoostClassifier(learning_rate = lr)\n",
    "    clf.fit(features, labels)\n",
    "    predictions = clf.predict(features)\n",
    "    score_lst.append(roc_auc_score(labels, predictions))\n",
    "\n",
    "plt.plot(learning_rate, score_lst, label=\"full model\")\n",
    "plt.title(\"AUC score with different tunning parameters\")\n",
    "plt.xlabel(\"Learning rate\")\n",
    "plt.ylabel(\"AUC score\")\n",
    "plt.legend(loc=\"lower right\")\n",
    "plt.show()"
   ]
  },
  {
   "cell_type": "code",
   "execution_count": null,
   "metadata": {
    "collapsed": true,
    "scrolled": true
   },
   "outputs": [],
   "source": [
    "clf = AdaBoostClassifier(learning_rate = 2)\n",
    "forward_selection_auc(features, labels, clf)"
   ]
  },
  {
   "cell_type": "markdown",
   "metadata": {},
   "source": [
    "### Feature Selection using Mutual Information Criteria"
   ]
  },
  {
   "cell_type": "code",
   "execution_count": null,
   "metadata": {
    "collapsed": true,
    "scrolled": true
   },
   "outputs": [],
   "source": [
    "MI = mutual_info_classif(features,labels)\n",
    "\n",
    "print MI\n",
    "print len(MI)\n",
    "print max(MI)\n",
    "print MI.argmax()"
   ]
  },
  {
   "cell_type": "code",
   "execution_count": null,
   "metadata": {
    "collapsed": true,
    "scrolled": false
   },
   "outputs": [],
   "source": [
    "%matplotlib inline\n",
    "\n",
    "plt.bar(range(1,len(MI)+1), MI)"
   ]
  },
  {
   "cell_type": "code",
   "execution_count": null,
   "metadata": {
    "collapsed": true,
    "scrolled": true
   },
   "outputs": [],
   "source": [
    "# select only variables with MI larger than 0.003\n",
    "np.array(range(len(MI)))[MI > 0.003]"
   ]
  },
  {
   "cell_type": "code",
   "execution_count": null,
   "metadata": {
    "collapsed": true,
    "scrolled": true
   },
   "outputs": [],
   "source": [
    "selected = np.array(range(len(MI)))[MI > 0.003]\n",
    "features_sub = features[:,selected]\n",
    "clf = LogisticRegression()\n",
    "clf.fit(features_sub, labels)\n",
    "score = clf.score(features_sub, labels)\n",
    "print \"Accuracy score is\", score\n",
    "\n",
    "predictions = clf.predict(features_sub)\n",
    "print \"AUC score is\", roc_auc_score(labels, predictions)"
   ]
  },
  {
   "cell_type": "markdown",
   "metadata": {
    "collapsed": true
   },
   "source": [
    "## Improvement 04/10"
   ]
  },
  {
   "cell_type": "markdown",
   "metadata": {},
   "source": [
    "### Involve Training-Testing Split"
   ]
  },
  {
   "cell_type": "code",
   "execution_count": null,
   "metadata": {
    "collapsed": true
   },
   "outputs": [],
   "source": [
    "## bootstrap to generate 90000 samples\n",
    "#features_boot, labels_boot = resample(features, labels, replace = True, n_samples = 90000, random_state=42)\n",
    "\n",
    "#print features_boot.shape\n",
    "#print sum(labels_boot)"
   ]
  },
  {
   "cell_type": "code",
   "execution_count": 11,
   "metadata": {},
   "outputs": [
    {
     "name": "stdout",
     "output_type": "stream",
     "text": [
      "Training set:\n",
      "Number of Frauds:  197.0\n",
      "Total number of records:  59080\n",
      "Fraud rate:  0.00333446174678\n",
      "\n",
      "Testing set:\n",
      "Number of Frauds:  98.0\n",
      "Total number of records:  29541\n",
      "Fraud rate:  0.00331742324227\n"
     ]
    }
   ],
   "source": [
    "# train-testing split with 2 to 1 proportion\n",
    "X_train, X_test, y_train, y_test = train_test_split(features, labels, test_size=0.33333, random_state=10)\n",
    "print \"Training set:\"\n",
    "print \"Number of Frauds: \",\n",
    "print sum(y_train)\n",
    "print \"Total number of records: \",\n",
    "print len(y_train)\n",
    "print \"Fraud rate: \",\n",
    "print sum(y_train) / len(y_train)\n",
    "print \"\\nTesting set:\"\n",
    "print \"Number of Frauds: \",\n",
    "print sum(y_test)\n",
    "print \"Total number of records: \",\n",
    "print len(y_test)\n",
    "print \"Fraud rate: \",\n",
    "print sum(y_test) / len(y_test)"
   ]
  },
  {
   "cell_type": "markdown",
   "metadata": {},
   "source": [
    "### Change criteria to FDR(fraud detection rate)"
   ]
  },
  {
   "cell_type": "code",
   "execution_count": null,
   "metadata": {
    "collapsed": true
   },
   "outputs": [],
   "source": [
    "# trial to compute FDR\n",
    "clf = LogisticRegression()\n",
    "clf.fit(X_train, y_train)\n",
    "\n",
    "matrix = confusion_matrix(y_train, y_pred)\n",
    "\n",
    "# calculate fraud detection rate\n",
    "print matrix\n",
    "print matrix[1,1]/sum(y_train)\n",
    "print 50.0/(177+50)"
   ]
  },
  {
   "cell_type": "code",
   "execution_count": 17,
   "metadata": {
    "collapsed": true
   },
   "outputs": [],
   "source": [
    "def forward_selection(feature, label, clf, criteria):\n",
    "    '''\n",
    "    feature: ndarray of all the feature\n",
    "    label: series of fraud label\n",
    "    clf: classifier\n",
    "    criteria: \"accuracy\", \"AUC\" or \"FDR\"\n",
    "    '''\n",
    "    \n",
    "    # initialize counter and comparison flag\n",
    "    max_accuracy = 0\n",
    "    added_features = []\n",
    "    count = 0\n",
    "    print \"Starting........ Selection criteria is {crit}, baseline score is {baseline}\".format(\n",
    "        crit = criteria,\n",
    "        baseline = max_accuracy)\n",
    "    # loop until all the new models give a worse result\n",
    "    while True:\n",
    "        count += 1\n",
    "        accuracy = {}\n",
    "        # feature_lst is the list for all the feature indice except those features have been selected in previous round\n",
    "        feature_lst = [i for i in range(feature.shape[1]) if i not in added_features]\n",
    "        # add one feature in feature_list each time\n",
    "        for i in feature_lst:\n",
    "            feature_sub = feature[:,added_features+[i]]\n",
    "            if count == 1:\n",
    "                # change the shape of ndarray to make it acceptable for sklearn\n",
    "                feature_sub = feature_sub.reshape(feature_sub.shape[0],1)\n",
    "            # loop over to create a dict accuracy with feature index as key, and correponding accuracy as value\n",
    "            clf_clone = clone(clf)\n",
    "            clf_clone.fit(feature_sub, label)\n",
    "            if criteria == \"accuracy\":\n",
    "                accuracy[i] = clf_clone.score(feature_sub, label)\n",
    "            elif criteria == \"AUC\":\n",
    "                prediction = clf_clone.predict(feature_sub)\n",
    "                accuracy[i] = roc_auc_score(label, prediction)\n",
    "            elif criteria == \"FDR\":\n",
    "                prediction = clf_clone.predict(feature_sub)\n",
    "                matrix = confusion_matrix(label, prediction)\n",
    "                accuracy[i] = matrix[1,1]/sum(label)\n",
    "        # when the accuracy dict is empty, indicating it's the last round with no left features, end the loop\n",
    "        if accuracy == {}:\n",
    "            print \"Forward selection ended.\"\n",
    "            print \"Selected features are \",\n",
    "            print final_feature_lst\n",
    "            break\n",
    "        # if it's not the last round, calculate the best result in current round\n",
    "        current_max = max(accuracy.values())\n",
    "        # if a not worse best result is generated, update added_features list\n",
    "        if current_max >= max_accuracy:\n",
    "            max_index = accuracy.keys()[accuracy.values().index(current_max)]\n",
    "            added_features.append(max_index)\n",
    "            feature_name = df.columns.values[max_index+1]\n",
    "            # do not updated the final_feature_list until a better result is generated (always make sure fewer features)\n",
    "            if current_max > max_accuracy:\n",
    "                final_feature_lst = list(df.columns.values[[i+1 for i in added_features]])\n",
    "            # update maximum record\n",
    "            max_accuracy = current_max\n",
    "            print \"Round number: {count_num}, the added feature is: {feature_selected}, maximum score is: {max_acc}\\n\".format(\n",
    "            count_num = count,\n",
    "            feature_selected = feature_name,\n",
    "            max_acc = max_accuracy)\n",
    "        # otherwise, all the results are worse, end the loop\n",
    "        else:\n",
    "            print \"Forward selection ended.\"\n",
    "            print \"Selected features are \",\n",
    "            print final_feature_lst\n",
    "            break"
   ]
  },
  {
   "cell_type": "code",
   "execution_count": null,
   "metadata": {
    "collapsed": true
   },
   "outputs": [],
   "source": [
    "clf = DecisionTreeClassifier()\n",
    "criteria = \"accuracy\"\n",
    "LR_model = forward_selection(X_train, y_train, clf, criteria)"
   ]
  },
  {
   "cell_type": "code",
   "execution_count": null,
   "metadata": {
    "collapsed": true
   },
   "outputs": [],
   "source": [
    "features_sub = df[['merchant_amount_to_avg_7', 'card_amount_to_avg_7', 'cardDaily', 'merchLag14Cum']]\n",
    "clf = DecisionTreeClassifier()\n",
    "clf.fit(features_sub, labels)\n",
    "print clf.score(features_sub, labels)\n",
    "prediction = clf.predict(features_sub)\n",
    "matrix = confusion_matrix(labels, prediction)\n",
    "print \"\\n\"\n",
    "print matrix\n",
    "print \"\\n\"\n",
    "print  matrix[1,1]/sum(labels)"
   ]
  },
  {
   "cell_type": "code",
   "execution_count": null,
   "metadata": {
    "collapsed": true
   },
   "outputs": [],
   "source": [
    "clf = LogisticRegression()\n",
    "criteria = \"FDR\"\n",
    "LR_model = forward_selection(X_train, y_train, clf, criteria)"
   ]
  },
  {
   "cell_type": "code",
   "execution_count": null,
   "metadata": {
    "collapsed": true
   },
   "outputs": [],
   "source": [
    "clf = DecisionTreeClassifier()\n",
    "criteria = \"FDR\"\n",
    "forward_selection(X_train, y_train, clf, criteria)"
   ]
  },
  {
   "cell_type": "code",
   "execution_count": null,
   "metadata": {
    "collapsed": true
   },
   "outputs": [],
   "source": [
    "clf = AdaBoostClassifier(learning_rate = 2)\n",
    "criteria = \"FDR\"\n",
    "forward_selection(X_train, y_train, clf, criteria)"
   ]
  },
  {
   "cell_type": "code",
   "execution_count": null,
   "metadata": {
    "collapsed": true
   },
   "outputs": [],
   "source": [
    "features_sub = df[['zip_with_merchnum_3']]\n",
    "clf = AdaBoostClassifier(learning_rate = 2)\n",
    "clf.fit(features_sub, labels)\n",
    "print clf.score(features_sub, labels)\n",
    "prediction = clf.predict(features_sub)\n",
    "matrix = confusion_matrix(labels, prediction)\n",
    "print \"\\n\"\n",
    "print matrix\n",
    "print \"\\n\"\n",
    "print  matrix[1,1]/sum(labels)"
   ]
  },
  {
   "cell_type": "code",
   "execution_count": null,
   "metadata": {
    "collapsed": true
   },
   "outputs": [],
   "source": [
    "features_sub = df[['merchant_amount_to_avg_7', 'card_amount_to_avg_7', 'cardDaily', 'merchLag14Cum']]\n",
    "clf = DecisionTreeClassifier()\n",
    "clf.fit(features_sub, labels)\n",
    "print clf.score(features_sub, labels)\n",
    "prediction = clf.predict(features_sub)\n",
    "matrix = confusion_matrix(labels, prediction)\n",
    "print \"\\n\"\n",
    "print matrix\n",
    "print \"\\n\"\n",
    "print  matrix[1,1]/sum(labels)"
   ]
  },
  {
   "cell_type": "code",
   "execution_count": null,
   "metadata": {
    "collapsed": true
   },
   "outputs": [],
   "source": [
    "clf.feature_importances_"
   ]
  },
  {
   "cell_type": "code",
   "execution_count": null,
   "metadata": {
    "collapsed": true
   },
   "outputs": [],
   "source": [
    "tree.export_graphviz(clf,out_file='tree.dot')"
   ]
  },
  {
   "cell_type": "markdown",
   "metadata": {},
   "source": [
    "### Get Probability Score"
   ]
  },
  {
   "cell_type": "code",
   "execution_count": null,
   "metadata": {
    "collapsed": true
   },
   "outputs": [],
   "source": [
    "prediction_probability = clf.predict_proba(features_sub)\n",
    "prediction_probability[:,1]"
   ]
  },
  {
   "cell_type": "markdown",
   "metadata": {
    "collapsed": true
   },
   "source": [
    "### Limit the Max_Depth or Max_Leaf_Nodes"
   ]
  },
  {
   "cell_type": "code",
   "execution_count": 14,
   "metadata": {},
   "outputs": [
    {
     "name": "stdout",
     "output_type": "stream",
     "text": [
      "0.999988715993\n",
      "\n",
      "\n",
      "[[88326     0]\n",
      " [    1   294]]\n",
      "\n",
      "\n",
      "0.996610169492\n"
     ]
    }
   ],
   "source": [
    "clf = DecisionTreeClassifier()\n",
    "clf.fit(features, labels)\n",
    "print clf.score(features, labels)\n",
    "prediction = clf.predict(features)\n",
    "matrix = confusion_matrix(labels, prediction)\n",
    "print \"\\n\"\n",
    "print matrix\n",
    "print \"\\n\"\n",
    "print  matrix[1,1]/sum(labels)"
   ]
  },
  {
   "cell_type": "code",
   "execution_count": 16,
   "metadata": {},
   "outputs": [
    {
     "name": "stdout",
     "output_type": "stream",
     "text": [
      "0.998916735311\n",
      "\n",
      "\n",
      "[[88326     0]\n",
      " [   96   199]]\n",
      "\n",
      "\n",
      "0.674576271186\n"
     ]
    }
   ],
   "source": [
    "clf = DecisionTreeClassifier(max_depth = 10)\n",
    "clf.fit(features, labels)\n",
    "print clf.score(features, labels)\n",
    "prediction = clf.predict(features)\n",
    "matrix = confusion_matrix(labels, prediction)\n",
    "print \"\\n\"\n",
    "print matrix\n",
    "print \"\\n\"\n",
    "print  matrix[1,1]/sum(labels)"
   ]
  },
  {
   "cell_type": "code",
   "execution_count": null,
   "metadata": {
    "collapsed": true
   },
   "outputs": [],
   "source": []
  }
 ],
 "metadata": {
  "anaconda-cloud": {},
  "kernelspec": {
   "display_name": "Python [conda root]",
   "language": "python",
   "name": "conda-root-py"
  },
  "language_info": {
   "codemirror_mode": {
    "name": "ipython",
    "version": 2
   },
   "file_extension": ".py",
   "mimetype": "text/x-python",
   "name": "python",
   "nbconvert_exporter": "python",
   "pygments_lexer": "ipython2",
   "version": "2.7.12"
  },
  "nbpresent": {
   "slides": {
    "000eb71e-c5c7-480f-870e-9ca839bf59fc": {
     "id": "000eb71e-c5c7-480f-870e-9ca839bf59fc",
     "prev": "bebb6b7c-bec5-41f7-9389-848bbe795e66",
     "regions": {
      "d8be80fe-a50e-48e1-81fa-ae04b28c096b": {
       "attrs": {
        "height": 0.8,
        "width": 0.8,
        "x": 0.1,
        "y": 0.1
       },
       "content": {
        "cell": "183c6087-bab7-495b-991e-5f26dbc87272",
        "part": "whole"
       },
       "id": "d8be80fe-a50e-48e1-81fa-ae04b28c096b"
      }
     }
    },
    "1f3d535d-4085-456d-b1a2-e591c79d643b": {
     "id": "1f3d535d-4085-456d-b1a2-e591c79d643b",
     "prev": "879f01df-6761-4d11-a1f9-7f3c0d609b88",
     "regions": {
      "1eef7b0e-cfe8-463d-a84d-ec8a401af0b9": {
       "attrs": {
        "height": 0.8,
        "width": 0.8,
        "x": 0.1,
        "y": 0.1
       },
       "content": {
        "cell": "9db4791a-d98d-4334-927e-4d78f25dfc2b",
        "part": "whole"
       },
       "id": "1eef7b0e-cfe8-463d-a84d-ec8a401af0b9"
      }
     }
    },
    "3d17961e-80b7-4078-8650-ce35468d74eb": {
     "id": "3d17961e-80b7-4078-8650-ce35468d74eb",
     "prev": "d142675d-f132-41c6-81b6-bc4bdee76ef5",
     "regions": {
      "d35b525a-4753-4225-9b4f-bd0b6de4a45d": {
       "attrs": {
        "height": 0.8,
        "width": 0.8,
        "x": 0.1,
        "y": 0.1
       },
       "content": {
        "cell": "62a16342-f00b-49c1-a570-1d08e5f107a3",
        "part": "whole"
       },
       "id": "d35b525a-4753-4225-9b4f-bd0b6de4a45d"
      }
     }
    },
    "45cb7223-71d6-413c-aa06-2d1550af2ff8": {
     "id": "45cb7223-71d6-413c-aa06-2d1550af2ff8",
     "prev": "bc380d13-2995-415b-a50f-6007f88b187c",
     "regions": {
      "e9880413-4691-401a-8602-ef94bf1b5034": {
       "attrs": {
        "height": 0.8,
        "width": 0.8,
        "x": 0.1,
        "y": 0.1
       },
       "content": {
        "cell": "44d4eb36-ee0e-4070-b455-472afb0f3f4a",
        "part": "whole"
       },
       "id": "e9880413-4691-401a-8602-ef94bf1b5034"
      }
     }
    },
    "60e86473-8e3e-4d56-9d18-e4bfbe9e3b83": {
     "id": "60e86473-8e3e-4d56-9d18-e4bfbe9e3b83",
     "prev": "85091533-59af-463f-be20-667c38d650b9",
     "regions": {
      "efe8eb4a-8589-4c4e-8286-705e9485ab70": {
       "attrs": {
        "height": 0.8,
        "width": 0.8,
        "x": 0.1,
        "y": 0.1
       },
       "content": {
        "cell": "affacd4e-c4f5-4205-8c3b-ddf001223236",
        "part": "whole"
       },
       "id": "efe8eb4a-8589-4c4e-8286-705e9485ab70"
      }
     }
    },
    "6229913b-718b-4e67-a831-330fb6a2a6d3": {
     "id": "6229913b-718b-4e67-a831-330fb6a2a6d3",
     "prev": "71288704-7e7b-485f-aafb-a0a0adc12334",
     "regions": {
      "e3f3c209-4098-4c6f-b201-9ab875ffec86": {
       "attrs": {
        "height": 0.8,
        "width": 0.8,
        "x": 0.1,
        "y": 0.1
       },
       "content": {
        "cell": "80e83d2f-e09e-4631-b9de-5a6a9df3eb83",
        "part": "whole"
       },
       "id": "e3f3c209-4098-4c6f-b201-9ab875ffec86"
      }
     }
    },
    "63ca5375-2a1d-44fd-a2ac-e77e2762c1be": {
     "id": "63ca5375-2a1d-44fd-a2ac-e77e2762c1be",
     "prev": "9c5194f8-5732-4017-99ec-8be6638853cf",
     "regions": {
      "19a77190-bd02-4dad-9151-908491f1ef55": {
       "attrs": {
        "height": 0.8,
        "width": 0.8,
        "x": 0.1,
        "y": 0.1
       },
       "content": {
        "cell": "64130f62-181f-49ba-b8c5-f3509b04c5b1",
        "part": "whole"
       },
       "id": "19a77190-bd02-4dad-9151-908491f1ef55"
      }
     }
    },
    "71288704-7e7b-485f-aafb-a0a0adc12334": {
     "id": "71288704-7e7b-485f-aafb-a0a0adc12334",
     "prev": "b88e913f-e7f8-4908-938c-d9655f1e22d9",
     "regions": {
      "fee52edc-0227-47f7-a315-3cbfaec79de8": {
       "attrs": {
        "height": 0.8,
        "width": 0.8,
        "x": 0.1,
        "y": 0.1
       },
       "content": {
        "cell": "564e5f61-4b3d-4a4c-9661-3fc0f5f5161b",
        "part": "whole"
       },
       "id": "fee52edc-0227-47f7-a315-3cbfaec79de8"
      }
     }
    },
    "834da33c-237b-4408-826d-bbb049f10208": {
     "id": "834da33c-237b-4408-826d-bbb049f10208",
     "prev": "000eb71e-c5c7-480f-870e-9ca839bf59fc",
     "regions": {
      "cd9ab26f-5a8d-478a-882d-8e0fd165e7a6": {
       "attrs": {
        "height": 0.8,
        "width": 0.8,
        "x": 0.1,
        "y": 0.1
       },
       "content": {
        "cell": "6a5dc069-a3a0-47f0-8c1e-8ab2fcaa2fb8",
        "part": "whole"
       },
       "id": "cd9ab26f-5a8d-478a-882d-8e0fd165e7a6"
      }
     }
    },
    "845d6736-9fa8-457b-bdf5-dd4d1e651e28": {
     "id": "845d6736-9fa8-457b-bdf5-dd4d1e651e28",
     "prev": "a9d8d44d-fa22-49f3-acde-201fa6676260",
     "regions": {
      "afef51ab-2b52-4278-bf21-fceea8840075": {
       "attrs": {
        "height": 0.8,
        "width": 0.8,
        "x": 0.1,
        "y": 0.1
       },
       "content": {
        "cell": "0d8f109e-3f55-4671-bb7d-d3164e60432d",
        "part": "whole"
       },
       "id": "afef51ab-2b52-4278-bf21-fceea8840075"
      }
     }
    },
    "85091533-59af-463f-be20-667c38d650b9": {
     "id": "85091533-59af-463f-be20-667c38d650b9",
     "prev": "45cb7223-71d6-413c-aa06-2d1550af2ff8",
     "regions": {
      "94c9cc60-0aa4-4d82-bc90-f7d4091f38ae": {
       "attrs": {
        "height": 0.8,
        "width": 0.8,
        "x": 0.1,
        "y": 0.1
       },
       "content": {
        "cell": "3be92b91-7733-4e0b-b0e7-5f48915edeb6",
        "part": "whole"
       },
       "id": "94c9cc60-0aa4-4d82-bc90-f7d4091f38ae"
      }
     }
    },
    "879f01df-6761-4d11-a1f9-7f3c0d609b88": {
     "id": "879f01df-6761-4d11-a1f9-7f3c0d609b88",
     "prev": "834da33c-237b-4408-826d-bbb049f10208",
     "regions": {
      "f36699f3-ab60-43ec-b189-361b928be091": {
       "attrs": {
        "height": 0.8,
        "width": 0.8,
        "x": 0.1,
        "y": 0.1
       },
       "content": {
        "cell": "5047f4e0-7965-4330-8f9c-37eedca51a9b",
        "part": "whole"
       },
       "id": "f36699f3-ab60-43ec-b189-361b928be091"
      }
     }
    },
    "8b7e2b25-60cb-48ce-9694-3cfb15d42c6e": {
     "id": "8b7e2b25-60cb-48ce-9694-3cfb15d42c6e",
     "prev": "3d17961e-80b7-4078-8650-ce35468d74eb",
     "regions": {
      "78c9ff4a-7e13-4652-a434-c0f7e22b1638": {
       "attrs": {
        "height": 0.8,
        "width": 0.8,
        "x": 0.1,
        "y": 0.1
       },
       "content": {
        "cell": "f7cae24a-be12-466c-992e-7937ef0c1504",
        "part": "whole"
       },
       "id": "78c9ff4a-7e13-4652-a434-c0f7e22b1638"
      }
     }
    },
    "946770f4-14cb-4f82-9d3e-8cdf68a99528": {
     "id": "946770f4-14cb-4f82-9d3e-8cdf68a99528",
     "prev": "b8d16fce-c0f0-4961-9832-b131c07b7416",
     "regions": {
      "1bedf970-b954-4dfa-985e-f1ea533833e8": {
       "attrs": {
        "height": 0.8,
        "width": 0.8,
        "x": 0.1,
        "y": 0.1
       },
       "content": {
        "cell": "45f6c8eb-e012-4b98-8aea-a4ec91a1d90a",
        "part": "whole"
       },
       "id": "1bedf970-b954-4dfa-985e-f1ea533833e8"
      }
     }
    },
    "9c5194f8-5732-4017-99ec-8be6638853cf": {
     "id": "9c5194f8-5732-4017-99ec-8be6638853cf",
     "prev": "c77f22fb-d214-47d3-a0f0-4c1a747a7bb2",
     "regions": {
      "84e01f1d-d0e2-4019-b5c6-344af1237216": {
       "attrs": {
        "height": 0.8,
        "width": 0.8,
        "x": 0.1,
        "y": 0.1
       },
       "content": {
        "cell": "dfa808c2-291b-4339-a67e-5c91685ac828",
        "part": "whole"
       },
       "id": "84e01f1d-d0e2-4019-b5c6-344af1237216"
      }
     }
    },
    "a717a20c-7d2f-4aa4-8802-91112bd49f5a": {
     "id": "a717a20c-7d2f-4aa4-8802-91112bd49f5a",
     "prev": "845d6736-9fa8-457b-bdf5-dd4d1e651e28",
     "regions": {
      "c20efcbb-1855-40cb-94ea-1630ed29363a": {
       "attrs": {
        "height": 0.8,
        "width": 0.8,
        "x": 0.1,
        "y": 0.1
       },
       "content": {
        "cell": "082165ed-e1a2-484a-9477-f19bc7fcc478",
        "part": "whole"
       },
       "id": "c20efcbb-1855-40cb-94ea-1630ed29363a"
      }
     }
    },
    "a798a46b-083e-480d-873f-82bcd1d90fad": {
     "id": "a798a46b-083e-480d-873f-82bcd1d90fad",
     "prev": "8b7e2b25-60cb-48ce-9694-3cfb15d42c6e",
     "regions": {
      "83a4c0b3-b4f1-4aea-b88e-1e5b0563cc54": {
       "attrs": {
        "height": 0.8,
        "width": 0.8,
        "x": 0.1,
        "y": 0.1
       },
       "content": {
        "cell": "ca872076-f66d-465d-9570-1df8458ac4f0",
        "part": "whole"
       },
       "id": "83a4c0b3-b4f1-4aea-b88e-1e5b0563cc54"
      }
     }
    },
    "a9d8d44d-fa22-49f3-acde-201fa6676260": {
     "id": "a9d8d44d-fa22-49f3-acde-201fa6676260",
     "prev": "60e86473-8e3e-4d56-9d18-e4bfbe9e3b83",
     "regions": {
      "8d6b3e3c-f25b-4d09-9a2a-ee80ae8e3624": {
       "attrs": {
        "height": 0.8,
        "width": 0.8,
        "x": 0.1,
        "y": 0.1
       },
       "content": {
        "cell": "d26d6714-cef7-4d41-a351-91c541107406",
        "part": "whole"
       },
       "id": "8d6b3e3c-f25b-4d09-9a2a-ee80ae8e3624"
      }
     }
    },
    "b88e913f-e7f8-4908-938c-d9655f1e22d9": {
     "id": "b88e913f-e7f8-4908-938c-d9655f1e22d9",
     "prev": "1f3d535d-4085-456d-b1a2-e591c79d643b",
     "regions": {
      "4faf83e8-e428-443a-9eef-a70c8c10a040": {
       "attrs": {
        "height": 0.8,
        "width": 0.8,
        "x": 0.1,
        "y": 0.1
       },
       "content": {
        "cell": "e06185da-78a9-4ad0-a324-34b36fbf20a0",
        "part": "whole"
       },
       "id": "4faf83e8-e428-443a-9eef-a70c8c10a040"
      }
     }
    },
    "b8d16fce-c0f0-4961-9832-b131c07b7416": {
     "id": "b8d16fce-c0f0-4961-9832-b131c07b7416",
     "prev": "d54c2e22-56ae-4c28-8bc2-bc5722fdbcc7",
     "regions": {
      "0c3dcf7a-ca96-43f6-8a75-deb2c8e845b1": {
       "attrs": {
        "height": 0.8,
        "width": 0.8,
        "x": 0.1,
        "y": 0.1
       },
       "content": {
        "cell": "4d14dd87-b8e7-494a-9cff-3caf17ae8fdc",
        "part": "whole"
       },
       "id": "0c3dcf7a-ca96-43f6-8a75-deb2c8e845b1"
      }
     }
    },
    "bc380d13-2995-415b-a50f-6007f88b187c": {
     "id": "bc380d13-2995-415b-a50f-6007f88b187c",
     "prev": null,
     "regions": {}
    },
    "bebb6b7c-bec5-41f7-9389-848bbe795e66": {
     "id": "bebb6b7c-bec5-41f7-9389-848bbe795e66",
     "prev": "ca255684-a6b6-4aa7-82c8-6a2e85dc359b",
     "regions": {
      "f44333f1-1226-4dc3-bd8a-a27355b346fe": {
       "attrs": {
        "height": 0.8,
        "width": 0.8,
        "x": 0.1,
        "y": 0.1
       },
       "content": {
        "cell": "0e30e186-7936-444b-8820-c447b17784e1",
        "part": "whole"
       },
       "id": "f44333f1-1226-4dc3-bd8a-a27355b346fe"
      }
     }
    },
    "c77f22fb-d214-47d3-a0f0-4c1a747a7bb2": {
     "id": "c77f22fb-d214-47d3-a0f0-4c1a747a7bb2",
     "prev": "a798a46b-083e-480d-873f-82bcd1d90fad",
     "regions": {
      "e2a998b2-ac39-42fb-ac26-6a512c734803": {
       "attrs": {
        "height": 0.8,
        "width": 0.8,
        "x": 0.1,
        "y": 0.1
       },
       "content": {
        "cell": "c2b2ba5a-98dc-4fac-9888-2e6b2c19adcc",
        "part": "whole"
       },
       "id": "e2a998b2-ac39-42fb-ac26-6a512c734803"
      }
     }
    },
    "ca255684-a6b6-4aa7-82c8-6a2e85dc359b": {
     "id": "ca255684-a6b6-4aa7-82c8-6a2e85dc359b",
     "prev": "dc2b97d1-4a86-4019-9bef-c21921801f19",
     "regions": {
      "6de1b118-4d7f-4c2d-a9b3-139d700154fd": {
       "attrs": {
        "height": 0.8,
        "width": 0.8,
        "x": 0.1,
        "y": 0.1
       },
       "content": {
        "cell": "8ff86ed0-ffa6-4cf9-8314-f3b419fa06ce",
        "part": "whole"
       },
       "id": "6de1b118-4d7f-4c2d-a9b3-139d700154fd"
      }
     }
    },
    "d142675d-f132-41c6-81b6-bc4bdee76ef5": {
     "id": "d142675d-f132-41c6-81b6-bc4bdee76ef5",
     "prev": "f5e6273f-3e0f-465d-b001-ea084134bac6",
     "regions": {
      "d5306476-a9fd-4f97-a463-787bc42763e1": {
       "attrs": {
        "height": 0.8,
        "width": 0.8,
        "x": 0.1,
        "y": 0.1
       },
       "content": {
        "cell": "9ecaf1c3-2298-4493-b4d2-9dfe0b81122b",
        "part": "whole"
       },
       "id": "d5306476-a9fd-4f97-a463-787bc42763e1"
      }
     }
    },
    "d54c2e22-56ae-4c28-8bc2-bc5722fdbcc7": {
     "id": "d54c2e22-56ae-4c28-8bc2-bc5722fdbcc7",
     "prev": "63ca5375-2a1d-44fd-a2ac-e77e2762c1be",
     "regions": {
      "0de91b44-e9e2-4137-9d0f-46193a77e4e6": {
       "attrs": {
        "height": 0.8,
        "width": 0.8,
        "x": 0.1,
        "y": 0.1
       },
       "content": {
        "cell": "3604bfbe-a46b-46cb-95a2-04223aa94d65",
        "part": "whole"
       },
       "id": "0de91b44-e9e2-4137-9d0f-46193a77e4e6"
      }
     }
    },
    "dc2b97d1-4a86-4019-9bef-c21921801f19": {
     "id": "dc2b97d1-4a86-4019-9bef-c21921801f19",
     "prev": "a717a20c-7d2f-4aa4-8802-91112bd49f5a",
     "regions": {
      "31b5d06a-e42a-4845-994b-dc40c8d113fa": {
       "attrs": {
        "height": 0.8,
        "width": 0.8,
        "x": 0.1,
        "y": 0.1
       },
       "content": {
        "cell": "6dd1e682-6841-4836-a4cd-9786c98d6d8d",
        "part": "whole"
       },
       "id": "31b5d06a-e42a-4845-994b-dc40c8d113fa"
      }
     }
    },
    "f5e6273f-3e0f-465d-b001-ea084134bac6": {
     "id": "f5e6273f-3e0f-465d-b001-ea084134bac6",
     "prev": "6229913b-718b-4e67-a831-330fb6a2a6d3",
     "regions": {
      "55794442-1786-4fd2-bb42-67bcce11897d": {
       "attrs": {
        "height": 0.8,
        "width": 0.8,
        "x": 0.1,
        "y": 0.1
       },
       "content": {
        "cell": "be1b823e-31e5-42e1-8c9e-c11b863afe6d",
        "part": "whole"
       },
       "id": "55794442-1786-4fd2-bb42-67bcce11897d"
      }
     }
    }
   },
   "themes": {}
  }
 },
 "nbformat": 4,
 "nbformat_minor": 1
}
